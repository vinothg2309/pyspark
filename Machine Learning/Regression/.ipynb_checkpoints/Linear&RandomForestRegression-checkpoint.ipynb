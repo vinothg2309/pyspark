{
 "cells": [
  {
   "cell_type": "markdown",
   "id": "c174dd70-2e26-441a-b763-8d5fd09f82f9",
   "metadata": {},
   "source": [
    "# ML Packages\n",
    "\n",
    "**https://spark.apache.org/docs/2.0.1/api/python/pyspark.mllib.html**"
   ]
  },
  {
   "cell_type": "markdown",
   "id": "e05e61dd-ad59-4b8b-8ea6-4ab26fd47626",
   "metadata": {},
   "source": [
    "## ML vs MLlib\n",
    "\n",
    "\n",
    "|Spark Mllib|Spark ML|\n",
    "|-|-|\n",
    "|spark.mllib contains the legacy API **built on top of RDDs**.|spark.ml provides **higher-level API built on top of DataFrames for constructing ML pipelines.**|\n"
   ]
  },
  {
   "cell_type": "markdown",
   "id": "f0df0f56-17a2-4ddd-b1bd-53b944a23d20",
   "metadata": {},
   "source": [
    "## Why is MLlib switching to the DataFrame-based API?\n",
    "\n",
    "DataFrames provide a more user-friendly API than RDDs. The many benefits of DataFrames include Spark Datasources, SQL/DataFrame queries, Tungsten and Catalyst optimizations, and uniform APIs across languages.\n",
    "\n",
    "The DataFrame-based API for MLlib provides a uniform API across ML algorithms and across multiple languages.\n",
    "\n",
    "DataFrames facilitate practical ML Pipelines, particularly feature transformations. See the Pipelines guide for details."
   ]
  },
  {
   "cell_type": "code",
   "execution_count": 38,
   "id": "c829b269-1cd1-435b-9f72-ff2e28983442",
   "metadata": {},
   "outputs": [],
   "source": [
    "from pyspark.sql import SparkSession\n",
    "from pyspark.ml.feature import VectorAssembler\n",
    "from pyspark.ml.regression import LinearRegression\n",
    "from pyspark.ml.regression import RandomForestRegressor\n",
    "from pyspark.ml.evaluation import RegressionEvaluator"
   ]
  },
  {
   "cell_type": "code",
   "execution_count": 39,
   "id": "3d93585f-23cf-4517-8531-6f5290e4f0f9",
   "metadata": {},
   "outputs": [],
   "source": [
    "spark = SparkSession.builder.appName('Pyspark ML Algorithms').getOrCreate()"
   ]
  },
  {
   "cell_type": "code",
   "execution_count": 40,
   "id": "3c2a600f-0146-4c03-8f3c-f029bbae03ed",
   "metadata": {},
   "outputs": [],
   "source": [
    "dataframe = spark.read.csv(\"Admission_Prediction.csv\", header=True)"
   ]
  },
  {
   "cell_type": "code",
   "execution_count": 41,
   "id": "5a5bc11d-8b6a-470d-b667-ff43cbdb20ac",
   "metadata": {},
   "outputs": [
    {
     "data": {
      "text/plain": [
       "pyspark.sql.dataframe.DataFrame"
      ]
     },
     "execution_count": 41,
     "metadata": {},
     "output_type": "execute_result"
    }
   ],
   "source": [
    "type(dataframe)"
   ]
  },
  {
   "cell_type": "code",
   "execution_count": 42,
   "id": "a52767a5-7933-4eed-aa9f-fce659702beb",
   "metadata": {},
   "outputs": [
    {
     "name": "stdout",
     "output_type": "stream",
     "text": [
      "+---------+-----------+-----------------+----+----+----+--------+---------------+\n",
      "|GRE Score|TOEFL Score|University Rating| SOP| LOR|CGPA|Research|Chance of Admit|\n",
      "+---------+-----------+-----------------+----+----+----+--------+---------------+\n",
      "|   337.00|     118.00|                4|4.50|4.50|9.65|    1.00|           0.92|\n",
      "|   324.00|     107.00|                4|4.00|4.50|8.87|    1.00|           0.76|\n",
      "|     null|     104.00|                3|3.00|3.50|8.00|    1.00|           0.72|\n",
      "|   322.00|     110.00|                3|3.50|2.50|8.67|    1.00|           0.80|\n",
      "|   314.00|     103.00|                2|2.00|3.00|8.21|    0.00|           0.65|\n",
      "|   330.00|     115.00|                5|4.50|3.00|9.34|    1.00|           0.90|\n",
      "|   321.00|     109.00|             null|3.00|4.00|8.20|    1.00|           0.75|\n",
      "|   308.00|     101.00|                2|3.00|4.00|7.90|    0.00|           0.68|\n",
      "|   302.00|     102.00|                1|2.00|1.50|8.00|    0.00|           0.50|\n",
      "|   323.00|     108.00|                3|3.50|3.00|8.60|    0.00|           0.45|\n",
      "|   325.00|     106.00|                3|3.50|4.00|8.40|    1.00|           0.52|\n",
      "|   327.00|     111.00|                4|4.00|4.50|9.00|    1.00|           0.84|\n",
      "|     null|     112.00|                4|4.00|4.50|9.10|    1.00|           0.78|\n",
      "|   307.00|     109.00|                3|4.00|3.00|8.00|    1.00|           0.62|\n",
      "|   311.00|     104.00|                3|3.50|2.00|8.20|    1.00|           0.61|\n",
      "|   314.00|     105.00|                3|3.50|2.50|8.30|    0.00|           0.54|\n",
      "|   317.00|     107.00|                3|4.00|3.00|8.70|    0.00|           0.66|\n",
      "|   319.00|     106.00|                3|4.00|3.00|8.00|    1.00|           0.65|\n",
      "|   318.00|     110.00|                3|4.00|3.00|8.80|    0.00|           0.63|\n",
      "|   303.00|     102.00|                3|3.50|3.00|8.50|    0.00|           0.62|\n",
      "+---------+-----------+-----------------+----+----+----+--------+---------------+\n",
      "only showing top 20 rows\n",
      "\n"
     ]
    }
   ],
   "source": [
    "dataframe.show()"
   ]
  },
  {
   "cell_type": "code",
   "execution_count": 43,
   "id": "786881ca-556e-4b1e-908a-05672c3f446f",
   "metadata": {},
   "outputs": [
    {
     "data": {
      "text/plain": [
       "DataFrame[summary: string, GRE Score: string, TOEFL Score: string, University Rating: string, SOP: string, LOR: string, CGPA: string, Research: string, Chance of Admit: string]"
      ]
     },
     "execution_count": 43,
     "metadata": {},
     "output_type": "execute_result"
    }
   ],
   "source": [
    "dataframe.describe()"
   ]
  },
  {
   "cell_type": "code",
   "execution_count": 44,
   "id": "b05dcf59-60ae-48d8-9f7d-a3804c756cb7",
   "metadata": {},
   "outputs": [
    {
     "name": "stdout",
     "output_type": "stream",
     "text": [
      "root\n",
      " |-- GRE Score: string (nullable = true)\n",
      " |-- TOEFL Score: string (nullable = true)\n",
      " |-- University Rating: string (nullable = true)\n",
      " |-- SOP: string (nullable = true)\n",
      " |-- LOR: string (nullable = true)\n",
      " |-- CGPA: string (nullable = true)\n",
      " |-- Research: string (nullable = true)\n",
      " |-- Chance of Admit: string (nullable = true)\n",
      "\n"
     ]
    }
   ],
   "source": [
    "dataframe.printSchema()"
   ]
  },
  {
   "cell_type": "code",
   "execution_count": 45,
   "id": "7df9d689-d047-48f9-832c-16ddfe471a85",
   "metadata": {},
   "outputs": [
    {
     "data": {
      "text/plain": [
       "['GRE Score',\n",
       " 'TOEFL Score',\n",
       " 'University Rating',\n",
       " 'SOP',\n",
       " 'LOR',\n",
       " 'CGPA',\n",
       " 'Research',\n",
       " 'Chance of Admit']"
      ]
     },
     "execution_count": 45,
     "metadata": {},
     "output_type": "execute_result"
    }
   ],
   "source": [
    "dataframe.columns"
   ]
  },
  {
   "cell_type": "markdown",
   "id": "6db7016b-b9ae-47b9-b337-8df99d2d1037",
   "metadata": {},
   "source": [
    "# Convert to column\n",
    "\n",
    "Dataframe column type will be \"string\" by default. We need to convert it to \"float\" or \"integer\" etc type if its number"
   ]
  },
  {
   "cell_type": "code",
   "execution_count": 46,
   "id": "5fdc3b74-e3e5-40e4-8619-8b2fc66837a4",
   "metadata": {},
   "outputs": [
    {
     "name": "stdout",
     "output_type": "stream",
     "text": [
      "Column<'GRE Score'>\n",
      "Column<'TOEFL Score'>\n",
      "Column<'University Rating'>\n",
      "Column<'SOP'>\n",
      "Column<'LOR'>\n",
      "Column<'CGPA'>\n",
      "Column<'Research'>\n",
      "Column<'Chance of Admit'>\n"
     ]
    }
   ],
   "source": [
    "from pyspark.sql.functions import col\n",
    "\n",
    "for column in dataframe.columns:\n",
    "    print(col(column))"
   ]
  },
  {
   "cell_type": "code",
   "execution_count": 47,
   "id": "d7ce812c-6ff5-4315-b6a3-ba4316865e00",
   "metadata": {},
   "outputs": [
    {
     "name": "stdout",
     "output_type": "stream",
     "text": [
      "+---------+-----------+-----------------+----+----+----+--------+---------------+\n",
      "|GRE Score|TOEFL Score|University Rating| SOP| LOR|CGPA|Research|Chance of Admit|\n",
      "+---------+-----------+-----------------+----+----+----+--------+---------------+\n",
      "|   337.00|     118.00|                4|4.50|4.50|9.65|    1.00|           0.92|\n",
      "|   324.00|     107.00|                4|4.00|4.50|8.87|    1.00|           0.76|\n",
      "|     null|     104.00|                3|3.00|3.50|8.00|    1.00|           0.72|\n",
      "|   322.00|     110.00|                3|3.50|2.50|8.67|    1.00|           0.80|\n",
      "|   314.00|     103.00|                2|2.00|3.00|8.21|    0.00|           0.65|\n",
      "|   330.00|     115.00|                5|4.50|3.00|9.34|    1.00|           0.90|\n",
      "|   321.00|     109.00|             null|3.00|4.00|8.20|    1.00|           0.75|\n",
      "|   308.00|     101.00|                2|3.00|4.00|7.90|    0.00|           0.68|\n",
      "|   302.00|     102.00|                1|2.00|1.50|8.00|    0.00|           0.50|\n",
      "|   323.00|     108.00|                3|3.50|3.00|8.60|    0.00|           0.45|\n",
      "|   325.00|     106.00|                3|3.50|4.00|8.40|    1.00|           0.52|\n",
      "|   327.00|     111.00|                4|4.00|4.50|9.00|    1.00|           0.84|\n",
      "|     null|     112.00|                4|4.00|4.50|9.10|    1.00|           0.78|\n",
      "|   307.00|     109.00|                3|4.00|3.00|8.00|    1.00|           0.62|\n",
      "|   311.00|     104.00|                3|3.50|2.00|8.20|    1.00|           0.61|\n",
      "|   314.00|     105.00|                3|3.50|2.50|8.30|    0.00|           0.54|\n",
      "|   317.00|     107.00|                3|4.00|3.00|8.70|    0.00|           0.66|\n",
      "|   319.00|     106.00|                3|4.00|3.00|8.00|    1.00|           0.65|\n",
      "|   318.00|     110.00|                3|4.00|3.00|8.80|    0.00|           0.63|\n",
      "|   303.00|     102.00|                3|3.50|3.00|8.50|    0.00|           0.62|\n",
      "+---------+-----------+-----------------+----+----+----+--------+---------------+\n",
      "only showing top 20 rows\n",
      "\n"
     ]
    }
   ],
   "source": [
    "dataframe.select(*(col(c) for c in dataframe.columns)).show()"
   ]
  },
  {
   "cell_type": "code",
   "execution_count": 48,
   "id": "b62c4b8c-5d22-40ca-88c4-c28750b3f640",
   "metadata": {},
   "outputs": [
    {
     "name": "stdout",
     "output_type": "stream",
     "text": [
      "root\n",
      " |-- GRE Score: string (nullable = true)\n",
      " |-- TOEFL Score: string (nullable = true)\n",
      " |-- University Rating: string (nullable = true)\n",
      " |-- SOP: string (nullable = true)\n",
      " |-- LOR: string (nullable = true)\n",
      " |-- CGPA: string (nullable = true)\n",
      " |-- Research: string (nullable = true)\n",
      " |-- Chance of Admit: string (nullable = true)\n",
      "\n"
     ]
    }
   ],
   "source": [
    "dataframe.printSchema()"
   ]
  },
  {
   "cell_type": "markdown",
   "id": "a0d6bf72-1407-428c-b7a4-ec358c6a6ab2",
   "metadata": {},
   "source": [
    "# Cast column to Number"
   ]
  },
  {
   "cell_type": "code",
   "execution_count": 49,
   "id": "1b41d8de-0752-415e-b0da-ff547626c7a4",
   "metadata": {},
   "outputs": [
    {
     "name": "stdout",
     "output_type": "stream",
     "text": [
      "root\n",
      " |-- GRE Score: float (nullable = true)\n",
      " |-- TOEFL Score: float (nullable = true)\n",
      " |-- University Rating: float (nullable = true)\n",
      " |-- SOP: float (nullable = true)\n",
      " |-- LOR: float (nullable = true)\n",
      " |-- CGPA: float (nullable = true)\n",
      " |-- Research: float (nullable = true)\n",
      " |-- Chance of Admit: float (nullable = true)\n",
      "\n"
     ]
    }
   ],
   "source": [
    "dataframe.select(*(col(c).cast(\"float\") for c in dataframe.columns)).printSchema()"
   ]
  },
  {
   "cell_type": "code",
   "execution_count": 50,
   "id": "aeb2bec9-24fe-4043-a1b0-1147781512a7",
   "metadata": {},
   "outputs": [],
   "source": [
    "new_dataframe = dataframe.select(*(col(c).cast(\"float\") for c in dataframe.columns))"
   ]
  },
  {
   "cell_type": "markdown",
   "id": "26f1587a-d980-4391-a48a-18e6585bd01a",
   "metadata": {},
   "source": [
    "# Handle Missing value"
   ]
  },
  {
   "cell_type": "code",
   "execution_count": 51,
   "id": "3c2e50d9-d770-4ba2-8920-2219faac02b1",
   "metadata": {},
   "outputs": [],
   "source": [
    "from pyspark.sql.functions import when, col, count, isnan, filter"
   ]
  },
  {
   "cell_type": "markdown",
   "id": "6eb218cb-8afd-42f7-bcd0-0413bf0fb846",
   "metadata": {},
   "source": [
    "**when(condition, value)**\n",
    "Docstring:\n",
    "Evaluates a list of conditions and returns one of multiple possible result expressions.\n",
    "\n",
    "condition : :class:`~pyspark.sql.Column`\n",
    "    a boolean :class:`~pyspark.sql.Column` expression.\n",
    "value :\n",
    "    a literal value, or a :class:`~pyspark.sql.Column` expression.\n",
    "\n",
    "df.select(when(df['age'] == 2, 3).otherwise(4).alias(\"age\")).collect()\n",
    "\n",
    "[Row(age=3), Row(age=4)]\n",
    "\n",
    "df.select(when(df.age == 2, df.age + 1).alias(\"age\")).collect()\n",
    "\n",
    "[Row(age=3), Row(age=None)]"
   ]
  },
  {
   "cell_type": "code",
   "execution_count": 52,
   "id": "1913ef74-beb6-4d4b-9177-01dfed8735d3",
   "metadata": {},
   "outputs": [
    {
     "name": "stdout",
     "output_type": "stream",
     "text": [
      "+-------------------------------------------------------+-----------------------------------------------------------+-----------------------------------------------------------------------+-------------------------------------------+-------------------------------------------+---------------------------------------------+-----------------------------------------------------+-------------------------------------------------------------------+\n",
      "|count(CASE WHEN (GRE Score IS NULL) THEN GRE Score END)|count(CASE WHEN (TOEFL Score IS NULL) THEN TOEFL Score END)|count(CASE WHEN (University Rating IS NULL) THEN University Rating END)|count(CASE WHEN (SOP IS NULL) THEN SOP END)|count(CASE WHEN (LOR IS NULL) THEN LOR END)|count(CASE WHEN (CGPA IS NULL) THEN CGPA END)|count(CASE WHEN (Research IS NULL) THEN Research END)|count(CASE WHEN (Chance of Admit IS NULL) THEN Chance of Admit END)|\n",
      "+-------------------------------------------------------+-----------------------------------------------------------+-----------------------------------------------------------------------+-------------------------------------------+-------------------------------------------+---------------------------------------------+-----------------------------------------------------+-------------------------------------------------------------------+\n",
      "|                                                     15|                                                         10|                                                                     15|                                          0|                                          0|                                            0|                                                    0|                                                                  0|\n",
      "+-------------------------------------------------------+-----------------------------------------------------------+-----------------------------------------------------------------------+-------------------------------------------+-------------------------------------------+---------------------------------------------+-----------------------------------------------------+-------------------------------------------------------------------+\n",
      "\n"
     ]
    }
   ],
   "source": [
    "dataframe.select([count(when(col(c).isNull(), c)) for c in dataframe.columns]).show()"
   ]
  },
  {
   "cell_type": "code",
   "execution_count": 53,
   "id": "3d1a7b1e-c19e-4bfd-a593-715490f222e7",
   "metadata": {},
   "outputs": [
    {
     "data": {
      "text/plain": [
       "DataFrame[GRE Score: bigint, TOEFL Score: bigint, University Rating: bigint, SOP: bigint, LOR: bigint, CGPA: bigint, Research: bigint, Chance of Admit: bigint]"
      ]
     },
     "execution_count": 53,
     "metadata": {},
     "output_type": "execute_result"
    }
   ],
   "source": [
    "dataframe.select([count(when(col(c).isNull(), c)).alias(c) for c in dataframe.columns])"
   ]
  },
  {
   "cell_type": "code",
   "execution_count": 54,
   "id": "e2a2cf26-635c-4deb-b3a2-94e703059796",
   "metadata": {},
   "outputs": [
    {
     "name": "stdout",
     "output_type": "stream",
     "text": [
      "+---------+-----------+-----------------+---+---+----+--------+---------------+\n",
      "|GRE Score|TOEFL Score|University Rating|SOP|LOR|CGPA|Research|Chance of Admit|\n",
      "+---------+-----------+-----------------+---+---+----+--------+---------------+\n",
      "|       15|         10|               15|  0|  0|   0|       0|              0|\n",
      "+---------+-----------+-----------------+---+---+----+--------+---------------+\n",
      "\n"
     ]
    }
   ],
   "source": [
    "dataframe.select([count(when(col(c).isNull(), c)).alias(c) for c in dataframe.columns]).show()"
   ]
  },
  {
   "cell_type": "markdown",
   "id": "4869bdc0-af03-456f-8203-ac87e83687ed",
   "metadata": {},
   "source": [
    "## alias"
   ]
  },
  {
   "cell_type": "code",
   "execution_count": 55,
   "id": "1286f3a5-eae7-41a6-a12b-a3c2bd937903",
   "metadata": {},
   "outputs": [
    {
     "name": "stdout",
     "output_type": "stream",
     "text": [
      "+---------+-----------+-----------------+---+---+----+--------+---------------+\n",
      "|GRE Score|TOEFL Score|University Rating|SOP|LOR|CGPA|Research|Chance of Admit|\n",
      "+---------+-----------+-----------------+---+---+----+--------+---------------+\n",
      "|       15|         10|               15|  0|  0|   0|       0|              0|\n",
      "+---------+-----------+-----------------+---+---+----+--------+---------------+\n",
      "\n"
     ]
    }
   ],
   "source": [
    "dataframe.select([count(when(col(c).isNull(), c)).alias(c) for c in dataframe.columns]).show()"
   ]
  },
  {
   "cell_type": "markdown",
   "id": "0ebae86a-aa54-4c17-85f3-aa59e3dda0b6",
   "metadata": {},
   "source": [
    "## Impute missing value"
   ]
  },
  {
   "cell_type": "code",
   "execution_count": 56,
   "id": "fad8af3d-48e9-4a21-96dd-8763d6ab4082",
   "metadata": {},
   "outputs": [],
   "source": [
    "from pyspark.ml.feature import Imputer"
   ]
  },
  {
   "cell_type": "code",
   "execution_count": 58,
   "id": "c1691dbc-b4c7-41ff-85dc-7acf50205393",
   "metadata": {},
   "outputs": [],
   "source": [
    "imputer = Imputer(inputCols=[\"GRE Score\",\"TOEFL Score\",\"University Rating\"],\n",
    "                 outputCols=[\"GRE Score\",\"TOEFL Score\",\"University Rating\"], strategy='mean')\n",
    "model = imputer.fit(new_dataframe)\n",
    "imputed_data = model.transform(new_dataframe)"
   ]
  },
  {
   "cell_type": "code",
   "execution_count": 59,
   "id": "5a044100-d3b8-409f-8564-298dde823eb1",
   "metadata": {},
   "outputs": [
    {
     "name": "stdout",
     "output_type": "stream",
     "text": [
      "+---------+-----------+-----------------+---+---+----+--------+---------------+\n",
      "|GRE Score|TOEFL Score|University Rating|SOP|LOR|CGPA|Research|Chance of Admit|\n",
      "+---------+-----------+-----------------+---+---+----+--------+---------------+\n",
      "|    337.0|      118.0|              4.0|4.5|4.5|9.65|     1.0|           0.92|\n",
      "|    324.0|      107.0|              4.0|4.0|4.5|8.87|     1.0|           0.76|\n",
      "|316.55878|      104.0|              3.0|3.0|3.5| 8.0|     1.0|           0.72|\n",
      "|    322.0|      110.0|              3.0|3.5|2.5|8.67|     1.0|            0.8|\n",
      "|    314.0|      103.0|              2.0|2.0|3.0|8.21|     0.0|           0.65|\n",
      "|    330.0|      115.0|              5.0|4.5|3.0|9.34|     1.0|            0.9|\n",
      "|    321.0|      109.0|        3.1216495|3.0|4.0| 8.2|     1.0|           0.75|\n",
      "|    308.0|      101.0|              2.0|3.0|4.0| 7.9|     0.0|           0.68|\n",
      "|    302.0|      102.0|              1.0|2.0|1.5| 8.0|     0.0|            0.5|\n",
      "|    323.0|      108.0|              3.0|3.5|3.0| 8.6|     0.0|           0.45|\n",
      "|    325.0|      106.0|              3.0|3.5|4.0| 8.4|     1.0|           0.52|\n",
      "|    327.0|      111.0|              4.0|4.0|4.5| 9.0|     1.0|           0.84|\n",
      "|316.55878|      112.0|              4.0|4.0|4.5| 9.1|     1.0|           0.78|\n",
      "|    307.0|      109.0|              3.0|4.0|3.0| 8.0|     1.0|           0.62|\n",
      "|    311.0|      104.0|              3.0|3.5|2.0| 8.2|     1.0|           0.61|\n",
      "|    314.0|      105.0|              3.0|3.5|2.5| 8.3|     0.0|           0.54|\n",
      "|    317.0|      107.0|              3.0|4.0|3.0| 8.7|     0.0|           0.66|\n",
      "|    319.0|      106.0|              3.0|4.0|3.0| 8.0|     1.0|           0.65|\n",
      "|    318.0|      110.0|              3.0|4.0|3.0| 8.8|     0.0|           0.63|\n",
      "|    303.0|      102.0|              3.0|3.5|3.0| 8.5|     0.0|           0.62|\n",
      "+---------+-----------+-----------------+---+---+----+--------+---------------+\n",
      "only showing top 20 rows\n",
      "\n"
     ]
    }
   ],
   "source": [
    "imputed_data.show()"
   ]
  },
  {
   "cell_type": "code",
   "execution_count": 60,
   "id": "41f3a1b1-b17b-4102-a731-18c205b7064b",
   "metadata": {},
   "outputs": [
    {
     "name": "stdout",
     "output_type": "stream",
     "text": [
      "+---------+-----------+-----------------+---+---+----+--------+---------------+\n",
      "|GRE Score|TOEFL Score|University Rating|SOP|LOR|CGPA|Research|Chance of Admit|\n",
      "+---------+-----------+-----------------+---+---+----+--------+---------------+\n",
      "|        0|          0|                0|  0|  0|   0|       0|              0|\n",
      "+---------+-----------+-----------------+---+---+----+--------+---------------+\n",
      "\n"
     ]
    }
   ],
   "source": [
    "imputed_data.select([count(when(col(c).isNull(), c)).alias(c) for c in imputed_data.columns]).show()"
   ]
  },
  {
   "cell_type": "code",
   "execution_count": 61,
   "id": "c4c6da19-e5a7-45c2-bb88-303f1c291987",
   "metadata": {},
   "outputs": [],
   "source": [
    "features = imputed_data.drop('Chance of Admit')"
   ]
  },
  {
   "cell_type": "code",
   "execution_count": 64,
   "id": "e55b7f43-58cd-4682-bbac-9762b0c6b62c",
   "metadata": {},
   "outputs": [
    {
     "data": {
      "text/plain": [
       "DataFrame[GRE Score: float, TOEFL Score: float, University Rating: float, SOP: float, LOR: float, CGPA: float, Research: float]"
      ]
     },
     "execution_count": 64,
     "metadata": {},
     "output_type": "execute_result"
    }
   ],
   "source": [
    "features"
   ]
  },
  {
   "cell_type": "code",
   "execution_count": 62,
   "id": "6ae8b3f0-9c30-4b5a-a055-8a0320bf8536",
   "metadata": {},
   "outputs": [
    {
     "data": {
      "text/plain": [
       "['GRE Score',\n",
       " 'TOEFL Score',\n",
       " 'University Rating',\n",
       " 'SOP',\n",
       " 'LOR',\n",
       " 'CGPA',\n",
       " 'Research']"
      ]
     },
     "execution_count": 62,
     "metadata": {},
     "output_type": "execute_result"
    }
   ],
   "source": [
    "features.columns"
   ]
  },
  {
   "cell_type": "code",
   "execution_count": 63,
   "id": "bdf652b1-e841-455d-b29a-e3799aa06016",
   "metadata": {},
   "outputs": [
    {
     "data": {
      "text/plain": [
       "Column<'Chance of Admit'>"
      ]
     },
     "execution_count": 63,
     "metadata": {},
     "output_type": "execute_result"
    }
   ],
   "source": [
    "imputed_data['Chance of Admit']"
   ]
  },
  {
   "cell_type": "markdown",
   "id": "7f107ad9-7f06-4ea8-a2d5-30c3e5cbfcfd",
   "metadata": {},
   "source": [
    "# Merge df rows to list to train it\n",
    "\n",
    "VectorAssembler merges all column in row except \"Chance of Admit\" since its target variable. inputCols=features.columns which doesn't contain \"Chance of Admit\" since its dropped above"
   ]
  },
  {
   "cell_type": "code",
   "execution_count": 69,
   "id": "e6a7009b-25ae-4af9-8acc-89772da008b4",
   "metadata": {},
   "outputs": [],
   "source": [
    "#let's assemble our features together using vectorAssembler\n",
    "assembler = VectorAssembler(inputCols=features.columns, outputCol=\"features\")"
   ]
  },
  {
   "cell_type": "code",
   "execution_count": 66,
   "id": "aff89d96-5ee0-4c25-aec8-0a502e2fd729",
   "metadata": {},
   "outputs": [],
   "source": [
    "output = assembler.transform(imputed_data)"
   ]
  },
  {
   "cell_type": "code",
   "execution_count": 67,
   "id": "83c08574-8711-4a90-beb1-160848df8ca5",
   "metadata": {},
   "outputs": [
    {
     "name": "stdout",
     "output_type": "stream",
     "text": [
      "+---------+-----------+-----------------+---+---+----+--------+---------------+--------------------+\n",
      "|GRE Score|TOEFL Score|University Rating|SOP|LOR|CGPA|Research|Chance of Admit|            features|\n",
      "+---------+-----------+-----------------+---+---+----+--------+---------------+--------------------+\n",
      "|    337.0|      118.0|              4.0|4.5|4.5|9.65|     1.0|           0.92|[337.0,118.0,4.0,...|\n",
      "|    324.0|      107.0|              4.0|4.0|4.5|8.87|     1.0|           0.76|[324.0,107.0,4.0,...|\n",
      "|316.55878|      104.0|              3.0|3.0|3.5| 8.0|     1.0|           0.72|[316.558776855468...|\n",
      "|    322.0|      110.0|              3.0|3.5|2.5|8.67|     1.0|            0.8|[322.0,110.0,3.0,...|\n",
      "|    314.0|      103.0|              2.0|2.0|3.0|8.21|     0.0|           0.65|[314.0,103.0,2.0,...|\n",
      "|    330.0|      115.0|              5.0|4.5|3.0|9.34|     1.0|            0.9|[330.0,115.0,5.0,...|\n",
      "|    321.0|      109.0|        3.1216495|3.0|4.0| 8.2|     1.0|           0.75|[321.0,109.0,3.12...|\n",
      "|    308.0|      101.0|              2.0|3.0|4.0| 7.9|     0.0|           0.68|[308.0,101.0,2.0,...|\n",
      "|    302.0|      102.0|              1.0|2.0|1.5| 8.0|     0.0|            0.5|[302.0,102.0,1.0,...|\n",
      "|    323.0|      108.0|              3.0|3.5|3.0| 8.6|     0.0|           0.45|[323.0,108.0,3.0,...|\n",
      "|    325.0|      106.0|              3.0|3.5|4.0| 8.4|     1.0|           0.52|[325.0,106.0,3.0,...|\n",
      "|    327.0|      111.0|              4.0|4.0|4.5| 9.0|     1.0|           0.84|[327.0,111.0,4.0,...|\n",
      "|316.55878|      112.0|              4.0|4.0|4.5| 9.1|     1.0|           0.78|[316.558776855468...|\n",
      "|    307.0|      109.0|              3.0|4.0|3.0| 8.0|     1.0|           0.62|[307.0,109.0,3.0,...|\n",
      "|    311.0|      104.0|              3.0|3.5|2.0| 8.2|     1.0|           0.61|[311.0,104.0,3.0,...|\n",
      "|    314.0|      105.0|              3.0|3.5|2.5| 8.3|     0.0|           0.54|[314.0,105.0,3.0,...|\n",
      "|    317.0|      107.0|              3.0|4.0|3.0| 8.7|     0.0|           0.66|[317.0,107.0,3.0,...|\n",
      "|    319.0|      106.0|              3.0|4.0|3.0| 8.0|     1.0|           0.65|[319.0,106.0,3.0,...|\n",
      "|    318.0|      110.0|              3.0|4.0|3.0| 8.8|     0.0|           0.63|[318.0,110.0,3.0,...|\n",
      "|    303.0|      102.0|              3.0|3.5|3.0| 8.5|     0.0|           0.62|[303.0,102.0,3.0,...|\n",
      "+---------+-----------+-----------------+---+---+----+--------+---------------+--------------------+\n",
      "only showing top 20 rows\n",
      "\n"
     ]
    }
   ],
   "source": [
    "output.show()"
   ]
  },
  {
   "cell_type": "code",
   "execution_count": 68,
   "id": "29271f08-e476-48a7-9c05-1a5edf4e3d5d",
   "metadata": {},
   "outputs": [
    {
     "data": {
      "text/html": [
       "<div>\n",
       "<style scoped>\n",
       "    .dataframe tbody tr th:only-of-type {\n",
       "        vertical-align: middle;\n",
       "    }\n",
       "\n",
       "    .dataframe tbody tr th {\n",
       "        vertical-align: top;\n",
       "    }\n",
       "\n",
       "    .dataframe thead th {\n",
       "        text-align: right;\n",
       "    }\n",
       "</style>\n",
       "<table border=\"1\" class=\"dataframe\">\n",
       "  <thead>\n",
       "    <tr style=\"text-align: right;\">\n",
       "      <th></th>\n",
       "      <th>features</th>\n",
       "    </tr>\n",
       "  </thead>\n",
       "  <tbody>\n",
       "    <tr>\n",
       "      <th>0</th>\n",
       "      <td>[337.0, 118.0, 4.0, 4.5, 4.5, 9.64999961853027...</td>\n",
       "    </tr>\n",
       "    <tr>\n",
       "      <th>1</th>\n",
       "      <td>[324.0, 107.0, 4.0, 4.0, 4.5, 8.86999988555908...</td>\n",
       "    </tr>\n",
       "    <tr>\n",
       "      <th>2</th>\n",
       "      <td>[316.55877685546875, 104.0, 3.0, 3.0, 3.5, 8.0...</td>\n",
       "    </tr>\n",
       "    <tr>\n",
       "      <th>3</th>\n",
       "      <td>[322.0, 110.0, 3.0, 3.5, 2.5, 8.67000007629394...</td>\n",
       "    </tr>\n",
       "    <tr>\n",
       "      <th>4</th>\n",
       "      <td>[314.0, 103.0, 2.0, 2.0, 3.0, 8.21000003814697...</td>\n",
       "    </tr>\n",
       "    <tr>\n",
       "      <th>...</th>\n",
       "      <td>...</td>\n",
       "    </tr>\n",
       "    <tr>\n",
       "      <th>495</th>\n",
       "      <td>[332.0, 108.0, 5.0, 4.5, 4.0, 9.02000045776367...</td>\n",
       "    </tr>\n",
       "    <tr>\n",
       "      <th>496</th>\n",
       "      <td>[337.0, 117.0, 5.0, 5.0, 5.0, 9.86999988555908...</td>\n",
       "    </tr>\n",
       "    <tr>\n",
       "      <th>497</th>\n",
       "      <td>[330.0, 120.0, 5.0, 4.5, 5.0, 9.5600004196167,...</td>\n",
       "    </tr>\n",
       "    <tr>\n",
       "      <th>498</th>\n",
       "      <td>[312.0, 103.0, 4.0, 4.0, 5.0, 8.43000030517578...</td>\n",
       "    </tr>\n",
       "    <tr>\n",
       "      <th>499</th>\n",
       "      <td>[327.0, 113.0, 4.0, 4.5, 4.5, 9.03999996185302...</td>\n",
       "    </tr>\n",
       "  </tbody>\n",
       "</table>\n",
       "<p>500 rows × 1 columns</p>\n",
       "</div>"
      ],
      "text/plain": [
       "                                              features\n",
       "0    [337.0, 118.0, 4.0, 4.5, 4.5, 9.64999961853027...\n",
       "1    [324.0, 107.0, 4.0, 4.0, 4.5, 8.86999988555908...\n",
       "2    [316.55877685546875, 104.0, 3.0, 3.0, 3.5, 8.0...\n",
       "3    [322.0, 110.0, 3.0, 3.5, 2.5, 8.67000007629394...\n",
       "4    [314.0, 103.0, 2.0, 2.0, 3.0, 8.21000003814697...\n",
       "..                                                 ...\n",
       "495  [332.0, 108.0, 5.0, 4.5, 4.0, 9.02000045776367...\n",
       "496  [337.0, 117.0, 5.0, 5.0, 5.0, 9.86999988555908...\n",
       "497  [330.0, 120.0, 5.0, 4.5, 5.0, 9.5600004196167,...\n",
       "498  [312.0, 103.0, 4.0, 4.0, 5.0, 8.43000030517578...\n",
       "499  [327.0, 113.0, 4.0, 4.5, 4.5, 9.03999996185302...\n",
       "\n",
       "[500 rows x 1 columns]"
      ]
     },
     "execution_count": 68,
     "metadata": {},
     "output_type": "execute_result"
    }
   ],
   "source": [
    "output.select('features').toPandas()"
   ]
  },
  {
   "cell_type": "code",
   "execution_count": 70,
   "id": "7a2bc769-9e04-4750-8fd9-2ffe2f4a6a98",
   "metadata": {
    "scrolled": true,
    "tags": []
   },
   "outputs": [
    {
     "data": {
      "text/plain": [
       "array([[DenseVector([337.0, 118.0, 4.0, 4.5, 4.5, 9.65, 1.0])],\n",
       "       [DenseVector([324.0, 107.0, 4.0, 4.0, 4.5, 8.87, 1.0])],\n",
       "       [DenseVector([316.5588, 104.0, 3.0, 3.0, 3.5, 8.0, 1.0])],\n",
       "       [DenseVector([322.0, 110.0, 3.0, 3.5, 2.5, 8.67, 1.0])],\n",
       "       [DenseVector([314.0, 103.0, 2.0, 2.0, 3.0, 8.21, 0.0])],\n",
       "       [DenseVector([330.0, 115.0, 5.0, 4.5, 3.0, 9.34, 1.0])],\n",
       "       [DenseVector([321.0, 109.0, 3.1216, 3.0, 4.0, 8.2, 1.0])],\n",
       "       [DenseVector([308.0, 101.0, 2.0, 3.0, 4.0, 7.9, 0.0])],\n",
       "       [DenseVector([302.0, 102.0, 1.0, 2.0, 1.5, 8.0, 0.0])],\n",
       "       [DenseVector([323.0, 108.0, 3.0, 3.5, 3.0, 8.6, 0.0])],\n",
       "       [DenseVector([325.0, 106.0, 3.0, 3.5, 4.0, 8.4, 1.0])],\n",
       "       [DenseVector([327.0, 111.0, 4.0, 4.0, 4.5, 9.0, 1.0])],\n",
       "       [DenseVector([316.5588, 112.0, 4.0, 4.0, 4.5, 9.1, 1.0])],\n",
       "       [DenseVector([307.0, 109.0, 3.0, 4.0, 3.0, 8.0, 1.0])],\n",
       "       [DenseVector([311.0, 104.0, 3.0, 3.5, 2.0, 8.2, 1.0])],\n",
       "       [DenseVector([314.0, 105.0, 3.0, 3.5, 2.5, 8.3, 0.0])],\n",
       "       [DenseVector([317.0, 107.0, 3.0, 4.0, 3.0, 8.7, 0.0])],\n",
       "       [DenseVector([319.0, 106.0, 3.0, 4.0, 3.0, 8.0, 1.0])],\n",
       "       [DenseVector([318.0, 110.0, 3.0, 4.0, 3.0, 8.8, 0.0])],\n",
       "       [DenseVector([303.0, 102.0, 3.0, 3.5, 3.0, 8.5, 0.0])],\n",
       "       [DenseVector([312.0, 107.0, 3.0, 3.0, 2.0, 7.9, 1.0])],\n",
       "       [DenseVector([325.0, 114.0, 4.0, 3.0, 2.0, 8.4, 0.0])],\n",
       "       [DenseVector([328.0, 116.0, 5.0, 5.0, 5.0, 9.5, 1.0])],\n",
       "       [DenseVector([316.5588, 119.0, 5.0, 5.0, 4.5, 9.7, 1.0])],\n",
       "       [DenseVector([336.0, 119.0, 5.0, 4.0, 3.5, 9.8, 1.0])],\n",
       "       [DenseVector([340.0, 120.0, 5.0, 4.5, 4.5, 9.6, 1.0])],\n",
       "       [DenseVector([322.0, 109.0, 5.0, 4.5, 3.5, 8.8, 0.0])],\n",
       "       [DenseVector([298.0, 98.0, 2.0, 1.5, 2.5, 7.5, 1.0])],\n",
       "       [DenseVector([295.0, 93.0, 1.0, 2.0, 2.0, 7.2, 0.0])],\n",
       "       [DenseVector([310.0, 99.0, 2.0, 1.5, 2.0, 7.3, 0.0])],\n",
       "       [DenseVector([300.0, 97.0, 2.0, 3.0, 3.0, 8.1, 1.0])],\n",
       "       [DenseVector([327.0, 103.0, 3.0, 4.0, 4.0, 8.3, 1.0])],\n",
       "       [DenseVector([338.0, 118.0, 4.0, 3.0, 4.5, 9.4, 1.0])],\n",
       "       [DenseVector([340.0, 114.0, 5.0, 4.0, 4.0, 9.6, 1.0])],\n",
       "       [DenseVector([331.0, 112.0, 5.0, 4.0, 5.0, 9.8, 1.0])],\n",
       "       [DenseVector([320.0, 110.0, 5.0, 5.0, 5.0, 9.2, 1.0])],\n",
       "       [DenseVector([316.5588, 106.0, 2.0, 4.0, 4.0, 8.4, 0.0])],\n",
       "       [DenseVector([300.0, 105.0, 1.0, 1.0, 2.0, 7.8, 0.0])],\n",
       "       [DenseVector([304.0, 105.0, 1.0, 3.0, 1.5, 7.5, 0.0])],\n",
       "       [DenseVector([307.0, 108.0, 2.0, 4.0, 3.5, 7.7, 0.0])],\n",
       "       [DenseVector([308.0, 110.0, 3.0, 3.5, 3.0, 8.0, 1.0])],\n",
       "       [DenseVector([316.0, 105.0, 2.0, 2.5, 2.5, 8.2, 1.0])],\n",
       "       [DenseVector([313.0, 107.0, 2.0, 2.5, 2.0, 8.5, 1.0])],\n",
       "       [DenseVector([332.0, 117.0, 4.0, 4.5, 4.0, 9.1, 0.0])],\n",
       "       [DenseVector([326.0, 113.0, 5.0, 4.5, 4.0, 9.4, 1.0])],\n",
       "       [DenseVector([322.0, 110.0, 3.1216, 5.0, 4.0, 9.1, 1.0])],\n",
       "       [DenseVector([329.0, 114.0, 5.0, 4.0, 5.0, 9.3, 1.0])],\n",
       "       [DenseVector([339.0, 119.0, 5.0, 4.5, 4.0, 9.7, 0.0])],\n",
       "       [DenseVector([321.0, 110.0, 3.0, 3.5, 5.0, 8.85, 1.0])],\n",
       "       [DenseVector([327.0, 111.0, 4.0, 3.0, 4.0, 8.4, 1.0])],\n",
       "       [DenseVector([313.0, 98.0, 3.0, 2.5, 4.5, 8.3, 1.0])],\n",
       "       [DenseVector([316.5588, 100.0, 2.0, 1.5, 3.5, 7.9, 1.0])],\n",
       "       [DenseVector([334.0, 116.0, 4.0, 4.0, 3.0, 8.0, 1.0])],\n",
       "       [DenseVector([324.0, 112.0, 4.0, 4.0, 2.5, 8.1, 1.0])],\n",
       "       [DenseVector([322.0, 110.0, 3.0, 3.0, 3.5, 8.0, 0.0])],\n",
       "       [DenseVector([320.0, 103.0, 3.0, 3.0, 3.0, 7.7, 0.0])],\n",
       "       [DenseVector([316.0, 102.0, 3.0, 2.0, 3.0, 7.4, 0.0])],\n",
       "       [DenseVector([298.0, 107.1878, 2.0, 4.0, 2.0, 7.6, 0.0])],\n",
       "       [DenseVector([300.0, 99.0, 1.0, 3.0, 2.0, 6.8, 1.0])],\n",
       "       [DenseVector([311.0, 104.0, 2.0, 2.0, 2.0, 8.3, 0.0])],\n",
       "       [DenseVector([309.0, 100.0, 2.0, 3.0, 3.0, 8.1, 0.0])],\n",
       "       [DenseVector([307.0, 101.0, 3.0, 4.0, 3.0, 8.2, 0.0])],\n",
       "       [DenseVector([304.0, 105.0, 2.0, 3.0, 3.0, 8.2, 1.0])],\n",
       "       [DenseVector([315.0, 107.0, 2.0, 4.0, 3.0, 8.5, 1.0])],\n",
       "       [DenseVector([325.0, 111.0, 3.0, 3.0, 3.5, 8.7, 0.0])],\n",
       "       [DenseVector([325.0, 112.0, 4.0, 3.5, 3.5, 8.92, 0.0])],\n",
       "       [DenseVector([327.0, 114.0, 3.0, 3.0, 3.0, 9.02, 0.0])],\n",
       "       [DenseVector([316.0, 107.0, 2.0, 3.5, 3.5, 8.64, 1.0])],\n",
       "       [DenseVector([318.0, 109.0, 3.0, 3.5, 4.0, 9.22, 1.0])],\n",
       "       [DenseVector([328.0, 115.0, 4.0, 4.5, 4.0, 9.16, 1.0])],\n",
       "       [DenseVector([316.5588, 118.0, 5.0, 5.0, 5.0, 9.64, 1.0])],\n",
       "       [DenseVector([336.0, 112.0, 5.0, 5.0, 5.0, 9.76, 1.0])],\n",
       "       [DenseVector([321.0, 111.0, 5.0, 5.0, 5.0, 9.45, 1.0])],\n",
       "       [DenseVector([314.0, 108.0, 4.0, 4.5, 4.0, 9.04, 1.0])],\n",
       "       [DenseVector([314.0, 106.0, 3.0, 3.0, 5.0, 8.9, 0.0])],\n",
       "       [DenseVector([329.0, 114.0, 2.0, 2.0, 4.0, 8.56, 1.0])],\n",
       "       [DenseVector([327.0, 112.0, 3.0, 3.0, 3.0, 8.72, 1.0])],\n",
       "       [DenseVector([301.0, 99.0, 2.0, 3.0, 2.0, 8.22, 0.0])],\n",
       "       [DenseVector([296.0, 95.0, 2.0, 3.0, 2.0, 7.54, 1.0])],\n",
       "       [DenseVector([294.0, 93.0, 1.0, 1.5, 2.0, 7.36, 0.0])],\n",
       "       [DenseVector([312.0, 105.0, 3.0, 2.0, 3.0, 8.02, 1.0])],\n",
       "       [DenseVector([340.0, 120.0, 4.0, 5.0, 5.0, 9.5, 1.0])],\n",
       "       [DenseVector([320.0, 110.0, 5.0, 5.0, 4.5, 9.22, 1.0])],\n",
       "       [DenseVector([322.0, 115.0, 5.0, 4.0, 4.5, 9.36, 1.0])],\n",
       "       [DenseVector([340.0, 115.0, 5.0, 4.5, 4.5, 9.45, 1.0])],\n",
       "       [DenseVector([319.0, 103.0, 3.1216, 4.5, 3.5, 8.66, 0.0])],\n",
       "       [DenseVector([315.0, 106.0, 3.0, 4.5, 3.5, 8.42, 0.0])],\n",
       "       [DenseVector([317.0, 107.0, 2.0, 3.5, 3.0, 8.28, 0.0])],\n",
       "       [DenseVector([314.0, 108.0, 3.0, 4.5, 3.5, 8.14, 0.0])],\n",
       "       [DenseVector([316.0, 109.0, 4.0, 4.5, 3.5, 8.76, 1.0])],\n",
       "       [DenseVector([318.0, 106.0, 2.0, 4.0, 4.0, 7.92, 1.0])],\n",
       "       [DenseVector([299.0, 97.0, 3.0, 5.0, 3.5, 7.66, 0.0])],\n",
       "       [DenseVector([298.0, 98.0, 2.0, 4.0, 3.0, 8.03, 0.0])],\n",
       "       [DenseVector([301.0, 97.0, 2.0, 3.0, 3.0, 7.88, 1.0])],\n",
       "       [DenseVector([303.0, 99.0, 3.0, 2.0, 2.5, 7.66, 0.0])],\n",
       "       [DenseVector([304.0, 100.0, 4.0, 1.5, 2.5, 7.84, 0.0])],\n",
       "       [DenseVector([306.0, 100.0, 2.0, 3.0, 3.0, 8.0, 0.0])],\n",
       "       [DenseVector([331.0, 120.0, 3.0, 4.0, 4.0, 8.96, 1.0])],\n",
       "       [DenseVector([332.0, 119.0, 4.0, 5.0, 4.5, 9.24, 1.0])],\n",
       "       [DenseVector([323.0, 107.1878, 3.0, 4.0, 4.0, 8.88, 1.0])],\n",
       "       [DenseVector([322.0, 107.0, 3.0, 3.5, 3.5, 8.46, 1.0])],\n",
       "       [DenseVector([312.0, 105.0, 2.0, 2.5, 3.0, 8.12, 0.0])],\n",
       "       [DenseVector([314.0, 106.0, 2.0, 4.0, 3.5, 8.25, 0.0])],\n",
       "       [DenseVector([317.0, 104.0, 2.0, 4.5, 4.0, 8.47, 0.0])],\n",
       "       [DenseVector([326.0, 112.0, 3.0, 3.5, 3.0, 9.05, 1.0])],\n",
       "       [DenseVector([316.0, 110.0, 3.0, 4.0, 4.5, 8.78, 1.0])],\n",
       "       [DenseVector([329.0, 111.0, 4.0, 4.5, 4.5, 9.18, 1.0])],\n",
       "       [DenseVector([338.0, 117.0, 4.0, 3.5, 4.5, 9.46, 1.0])],\n",
       "       [DenseVector([331.0, 116.0, 5.0, 5.0, 5.0, 9.38, 1.0])],\n",
       "       [DenseVector([304.0, 103.0, 5.0, 5.0, 4.0, 8.64, 0.0])],\n",
       "       [DenseVector([305.0, 108.0, 5.0, 3.0, 3.0, 8.48, 0.0])],\n",
       "       [DenseVector([321.0, 109.0, 4.0, 4.0, 4.0, 8.68, 1.0])],\n",
       "       [DenseVector([301.0, 107.0, 3.0, 3.5, 3.5, 8.34, 1.0])],\n",
       "       [DenseVector([320.0, 110.0, 2.0, 4.0, 3.5, 8.56, 0.0])],\n",
       "       [DenseVector([311.0, 105.0, 3.0, 3.5, 3.0, 8.45, 1.0])],\n",
       "       [DenseVector([310.0, 106.0, 4.0, 4.5, 4.5, 9.04, 1.0])],\n",
       "       [DenseVector([299.0, 102.0, 3.0, 4.0, 3.5, 8.62, 0.0])],\n",
       "       [DenseVector([290.0, 104.0, 4.0, 2.0, 2.5, 7.46, 0.0])],\n",
       "       [DenseVector([296.0, 99.0, 2.0, 3.0, 3.5, 7.28, 0.0])],\n",
       "       [DenseVector([327.0, 104.0, 5.0, 3.0, 3.5, 8.84, 1.0])],\n",
       "       [DenseVector([335.0, 117.0, 5.0, 5.0, 5.0, 9.56, 1.0])],\n",
       "       [DenseVector([334.0, 119.0, 5.0, 4.5, 4.5, 9.48, 1.0])],\n",
       "       [DenseVector([310.0, 106.0, 4.0, 1.5, 2.5, 8.36, 0.0])],\n",
       "       [DenseVector([308.0, 108.0, 3.1216, 3.5, 3.5, 8.22, 0.0])],\n",
       "       [DenseVector([316.5588, 106.0, 4.0, 2.5, 3.0, 8.47, 0.0])],\n",
       "       [DenseVector([300.0, 100.0, 3.0, 2.0, 3.0, 8.66, 1.0])],\n",
       "       [DenseVector([323.0, 113.0, 3.0, 4.0, 3.0, 9.32, 1.0])],\n",
       "       [DenseVector([319.0, 112.0, 3.0, 2.5, 2.0, 8.71, 1.0])],\n",
       "       [DenseVector([326.0, 112.0, 3.0, 3.5, 3.0, 9.1, 1.0])],\n",
       "       [DenseVector([333.0, 118.0, 5.0, 5.0, 5.0, 9.35, 1.0])],\n",
       "       [DenseVector([339.0, 114.0, 5.0, 4.0, 4.5, 9.76, 1.0])],\n",
       "       [DenseVector([303.0, 105.0, 5.0, 5.0, 4.5, 8.65, 0.0])],\n",
       "       [DenseVector([309.0, 105.0, 5.0, 3.5, 3.5, 8.56, 0.0])],\n",
       "       [DenseVector([323.0, 112.0, 5.0, 4.0, 4.5, 8.78, 0.0])],\n",
       "       [DenseVector([333.0, 113.0, 5.0, 4.0, 4.0, 9.28, 1.0])],\n",
       "       [DenseVector([314.0, 107.1878, 4.0, 3.5, 4.0, 8.77, 1.0])],\n",
       "       [DenseVector([312.0, 103.0, 3.0, 5.0, 4.0, 8.45, 0.0])],\n",
       "       [DenseVector([316.0, 100.0, 2.0, 1.5, 3.0, 8.16, 1.0])],\n",
       "       [DenseVector([326.0, 116.0, 2.0, 4.5, 3.0, 9.08, 1.0])],\n",
       "       [DenseVector([318.0, 109.0, 1.0, 3.5, 3.5, 9.12, 0.0])],\n",
       "       [DenseVector([329.0, 110.0, 2.0, 4.0, 3.0, 9.15, 1.0])],\n",
       "       [DenseVector([332.0, 118.0, 2.0, 4.5, 3.5, 9.36, 1.0])],\n",
       "       [DenseVector([331.0, 115.0, 5.0, 4.0, 3.5, 9.44, 1.0])],\n",
       "       [DenseVector([340.0, 120.0, 4.0, 4.5, 4.0, 9.92, 1.0])],\n",
       "       [DenseVector([325.0, 112.0, 2.0, 3.0, 3.5, 8.96, 1.0])],\n",
       "       [DenseVector([320.0, 113.0, 2.0, 2.0, 2.5, 8.64, 1.0])],\n",
       "       [DenseVector([315.0, 105.0, 3.0, 2.0, 2.5, 8.48, 0.0])],\n",
       "       [DenseVector([326.0, 114.0, 3.0, 3.0, 3.0, 9.11, 1.0])],\n",
       "       [DenseVector([339.0, 116.0, 4.0, 4.0, 3.5, 9.8, 1.0])],\n",
       "       [DenseVector([311.0, 106.0, 2.0, 3.5, 3.0, 8.26, 1.0])],\n",
       "       [DenseVector([334.0, 114.0, 4.0, 4.0, 4.0, 9.43, 1.0])],\n",
       "       [DenseVector([332.0, 116.0, 5.0, 5.0, 5.0, 9.28, 1.0])],\n",
       "       [DenseVector([321.0, 112.0, 5.0, 5.0, 5.0, 9.06, 1.0])],\n",
       "       [DenseVector([324.0, 105.0, 3.0, 3.0, 4.0, 8.75, 0.0])],\n",
       "       [DenseVector([326.0, 108.0, 3.0, 3.0, 3.5, 8.89, 0.0])],\n",
       "       [DenseVector([316.5588, 109.0, 3.0, 3.0, 3.0, 8.69, 0.0])],\n",
       "       [DenseVector([315.0, 105.0, 3.0, 2.0, 2.5, 8.34, 0.0])],\n",
       "       [DenseVector([309.0, 104.0, 2.0, 2.0, 2.5, 8.26, 0.0])],\n",
       "       [DenseVector([306.0, 106.0, 2.0, 2.0, 2.5, 8.14, 0.0])],\n",
       "       [DenseVector([297.0, 100.0, 1.0, 1.5, 2.0, 7.9, 0.0])],\n",
       "       [DenseVector([315.0, 103.0, 1.0, 1.5, 2.0, 7.86, 0.0])],\n",
       "       [DenseVector([298.0, 99.0, 1.0, 1.5, 3.0, 7.46, 0.0])],\n",
       "       [DenseVector([318.0, 109.0, 3.0, 3.0, 3.0, 8.5, 0.0])],\n",
       "       [DenseVector([317.0, 105.0, 3.0, 3.5, 3.0, 8.56, 0.0])],\n",
       "       [DenseVector([329.0, 111.0, 4.0, 4.5, 4.0, 9.01, 1.0])],\n",
       "       [DenseVector([322.0, 110.0, 5.0, 4.5, 4.0, 8.97, 0.0])],\n",
       "       [DenseVector([302.0, 102.0, 3.0, 3.5, 5.0, 8.33, 0.0])],\n",
       "       [DenseVector([313.0, 102.0, 3.0, 2.0, 3.0, 8.27, 0.0])],\n",
       "       [DenseVector([293.0, 97.0, 2.0, 2.0, 4.0, 7.8, 1.0])],\n",
       "       [DenseVector([311.0, 99.0, 2.0, 2.5, 3.0, 7.98, 0.0])],\n",
       "       [DenseVector([312.0, 101.0, 2.0, 2.5, 3.5, 8.04, 1.0])],\n",
       "       [DenseVector([334.0, 117.0, 5.0, 4.0, 4.5, 9.07, 1.0])],\n",
       "       [DenseVector([322.0, 107.1878, 4.0, 4.0, 5.0, 9.13, 1.0])],\n",
       "       [DenseVector([323.0, 113.0, 4.0, 4.0, 4.5, 9.23, 1.0])],\n",
       "       [DenseVector([321.0, 111.0, 4.0, 4.0, 4.0, 8.97, 1.0])],\n",
       "       [DenseVector([320.0, 111.0, 3.1216, 4.5, 3.5, 8.87, 1.0])],\n",
       "       [DenseVector([329.0, 119.0, 4.0, 4.5, 4.5, 9.16, 1.0])],\n",
       "       [DenseVector([319.0, 110.0, 3.0, 3.5, 3.5, 9.04, 0.0])],\n",
       "       [DenseVector([309.0, 108.0, 3.0, 2.5, 3.0, 8.12, 0.0])],\n",
       "       [DenseVector([307.0, 102.0, 3.0, 3.0, 3.0, 8.27, 0.0])],\n",
       "       [DenseVector([300.0, 104.0, 3.0, 3.5, 3.0, 8.16, 0.0])],\n",
       "       [DenseVector([305.0, 107.0, 2.0, 2.5, 2.5, 8.42, 0.0])],\n",
       "       [DenseVector([316.5588, 100.0, 2.0, 3.0, 3.5, 7.88, 0.0])],\n",
       "       [DenseVector([314.0, 110.0, 3.0, 4.0, 4.0, 8.8, 0.0])],\n",
       "       [DenseVector([316.0, 106.0, 2.0, 2.5, 4.0, 8.32, 0.0])],\n",
       "       [DenseVector([327.0, 113.0, 4.0, 4.5, 4.5, 9.11, 1.0])],\n",
       "       [DenseVector([317.0, 107.0, 3.0, 3.5, 3.0, 8.68, 1.0])],\n",
       "       [DenseVector([335.0, 118.0, 5.0, 4.5, 3.5, 9.44, 1.0])],\n",
       "       [DenseVector([331.0, 115.0, 5.0, 4.5, 3.5, 9.36, 1.0])],\n",
       "       [DenseVector([324.0, 112.0, 5.0, 5.0, 5.0, 9.08, 1.0])],\n",
       "       [DenseVector([324.0, 111.0, 5.0, 4.5, 4.0, 9.16, 1.0])],\n",
       "       [DenseVector([323.0, 110.0, 5.0, 4.0, 5.0, 8.98, 1.0])],\n",
       "       [DenseVector([322.0, 114.0, 5.0, 4.5, 4.0, 8.94, 1.0])],\n",
       "       [DenseVector([336.0, 118.0, 5.0, 4.5, 5.0, 9.53, 1.0])],\n",
       "       [DenseVector([316.0, 109.0, 3.0, 3.5, 3.0, 8.76, 0.0])],\n",
       "       [DenseVector([307.0, 107.0, 2.0, 3.0, 3.5, 8.52, 1.0])],\n",
       "       [DenseVector([306.0, 105.0, 2.0, 3.0, 2.5, 8.26, 0.0])],\n",
       "       [DenseVector([310.0, 106.0, 2.0, 3.5, 2.5, 8.33, 0.0])],\n",
       "       [DenseVector([311.0, 104.0, 3.0, 4.5, 4.5, 8.43, 0.0])],\n",
       "       [DenseVector([313.0, 107.0, 3.0, 4.0, 4.5, 8.69, 0.0])],\n",
       "       [DenseVector([317.0, 103.0, 3.0, 2.5, 3.0, 8.54, 1.0])],\n",
       "       [DenseVector([315.0, 110.0, 2.0, 3.5, 3.0, 8.46, 1.0])],\n",
       "       [DenseVector([340.0, 120.0, 5.0, 4.5, 4.5, 9.91, 1.0])],\n",
       "       [DenseVector([334.0, 120.0, 5.0, 4.0, 5.0, 9.87, 1.0])],\n",
       "       [DenseVector([298.0, 105.0, 3.0, 3.5, 4.0, 8.54, 0.0])],\n",
       "       [DenseVector([295.0, 99.0, 2.0, 2.5, 3.0, 7.65, 0.0])],\n",
       "       [DenseVector([315.0, 99.0, 2.0, 3.5, 3.0, 7.89, 0.0])],\n",
       "       [DenseVector([310.0, 102.0, 3.0, 3.5, 4.0, 8.02, 1.0])],\n",
       "       [DenseVector([305.0, 106.0, 2.0, 3.0, 3.0, 8.16, 0.0])],\n",
       "       [DenseVector([301.0, 104.0, 3.0, 3.5, 4.0, 8.12, 1.0])],\n",
       "       [DenseVector([325.0, 108.0, 4.0, 4.5, 4.0, 9.06, 1.0])],\n",
       "       [DenseVector([328.0, 110.0, 4.0, 5.0, 4.0, 9.14, 1.0])],\n",
       "       [DenseVector([338.0, 120.0, 4.0, 5.0, 5.0, 9.66, 1.0])],\n",
       "       [DenseVector([333.0, 119.0, 5.0, 5.0, 4.5, 9.78, 1.0])],\n",
       "       [DenseVector([331.0, 117.0, 4.0, 4.5, 5.0, 9.42, 1.0])],\n",
       "       [DenseVector([330.0, 116.0, 5.0, 5.0, 4.5, 9.36, 1.0])],\n",
       "       [DenseVector([322.0, 107.1878, 4.0, 4.5, 4.5, 9.26, 1.0])],\n",
       "       [DenseVector([321.0, 109.0, 4.0, 4.0, 4.0, 9.13, 1.0])],\n",
       "       [DenseVector([316.5588, 110.0, 4.0, 3.0, 3.5, 8.97, 1.0])],\n",
       "       [DenseVector([312.0, 104.0, 3.0, 3.5, 3.5, 8.42, 0.0])],\n",
       "       [DenseVector([313.0, 103.0, 3.0, 4.0, 4.0, 8.75, 0.0])],\n",
       "       [DenseVector([316.0, 110.0, 3.1216, 3.5, 4.0, 8.56, 0.0])],\n",
       "       [DenseVector([324.0, 113.0, 4.0, 4.5, 4.0, 8.79, 0.0])],\n",
       "       [DenseVector([308.0, 109.0, 2.0, 3.0, 4.0, 8.45, 0.0])],\n",
       "       [DenseVector([305.0, 105.0, 2.0, 3.0, 2.0, 8.23, 0.0])],\n",
       "       [DenseVector([296.0, 99.0, 2.0, 2.5, 2.5, 8.03, 0.0])],\n",
       "       [DenseVector([306.0, 110.0, 2.0, 3.5, 4.0, 8.45, 0.0])],\n",
       "       [DenseVector([312.0, 110.0, 2.0, 3.5, 3.0, 8.53, 0.0])],\n",
       "       [DenseVector([318.0, 112.0, 3.0, 4.0, 3.5, 8.67, 0.0])],\n",
       "       [DenseVector([324.0, 111.0, 4.0, 3.0, 3.0, 9.01, 1.0])],\n",
       "       [DenseVector([313.0, 104.0, 3.0, 4.0, 4.5, 8.65, 0.0])],\n",
       "       [DenseVector([319.0, 106.0, 3.0, 3.5, 2.5, 8.33, 1.0])],\n",
       "       [DenseVector([312.0, 107.0, 2.0, 2.5, 3.5, 8.27, 0.0])],\n",
       "       [DenseVector([304.0, 100.0, 2.0, 2.5, 3.5, 8.07, 0.0])],\n",
       "       [DenseVector([330.0, 113.0, 5.0, 5.0, 4.0, 9.31, 1.0])],\n",
       "       [DenseVector([326.0, 111.0, 5.0, 4.5, 4.0, 9.23, 1.0])],\n",
       "       [DenseVector([325.0, 112.0, 4.0, 4.0, 4.5, 9.17, 1.0])],\n",
       "       [DenseVector([329.0, 114.0, 5.0, 4.5, 5.0, 9.19, 1.0])],\n",
       "       [DenseVector([310.0, 104.0, 3.0, 2.0, 3.5, 8.37, 0.0])],\n",
       "       [DenseVector([299.0, 100.0, 1.0, 1.5, 2.0, 7.89, 0.0])],\n",
       "       [DenseVector([296.0, 101.0, 1.0, 2.5, 3.0, 7.68, 0.0])],\n",
       "       [DenseVector([317.0, 103.0, 2.0, 2.5, 2.0, 8.15, 0.0])],\n",
       "       [DenseVector([324.0, 115.0, 3.0, 3.5, 3.0, 8.76, 1.0])],\n",
       "       [DenseVector([325.0, 114.0, 3.0, 3.5, 3.0, 9.04, 1.0])],\n",
       "       [DenseVector([314.0, 107.0, 2.0, 2.5, 4.0, 8.56, 0.0])],\n",
       "       [DenseVector([328.0, 110.0, 4.0, 4.0, 2.5, 9.02, 1.0])],\n",
       "       [DenseVector([316.0, 105.0, 3.0, 3.0, 3.5, 8.73, 0.0])],\n",
       "       [DenseVector([311.0, 104.0, 2.0, 2.5, 3.5, 8.48, 0.0])],\n",
       "       [DenseVector([324.0, 110.0, 3.1216, 3.5, 4.0, 8.87, 1.0])],\n",
       "       [DenseVector([321.0, 111.0, 3.0, 3.5, 4.0, 8.83, 1.0])],\n",
       "       [DenseVector([320.0, 104.0, 3.0, 3.0, 2.5, 8.57, 1.0])],\n",
       "       [DenseVector([316.0, 99.0, 2.0, 2.5, 3.0, 9.0, 0.0])],\n",
       "       [DenseVector([318.0, 100.0, 2.0, 2.5, 3.5, 8.54, 1.0])],\n",
       "       [DenseVector([335.0, 115.0, 4.0, 4.5, 4.5, 9.68, 1.0])],\n",
       "       [DenseVector([321.0, 114.0, 4.0, 4.0, 5.0, 9.12, 0.0])],\n",
       "       [DenseVector([307.0, 110.0, 4.0, 4.0, 4.5, 8.37, 0.0])],\n",
       "       [DenseVector([309.0, 99.0, 3.0, 4.0, 4.0, 8.56, 0.0])],\n",
       "       [DenseVector([324.0, 100.0, 3.0, 4.0, 5.0, 8.64, 1.0])],\n",
       "       [DenseVector([326.0, 102.0, 4.0, 5.0, 5.0, 8.76, 1.0])],\n",
       "       [DenseVector([331.0, 119.0, 4.0, 5.0, 4.5, 9.34, 1.0])],\n",
       "       [DenseVector([327.0, 108.0, 5.0, 5.0, 3.5, 9.13, 1.0])],\n",
       "       [DenseVector([312.0, 104.0, 3.0, 3.5, 4.0, 8.09, 0.0])],\n",
       "       [DenseVector([308.0, 103.0, 2.0, 2.5, 4.0, 8.36, 1.0])],\n",
       "       [DenseVector([324.0, 111.0, 3.0, 2.5, 1.5, 8.79, 1.0])],\n",
       "       [DenseVector([325.0, 110.0, 2.0, 3.0, 2.5, 8.76, 1.0])],\n",
       "       [DenseVector([313.0, 102.0, 3.0, 2.5, 2.5, 8.68, 0.0])],\n",
       "       [DenseVector([312.0, 105.0, 2.0, 2.0, 2.5, 8.45, 0.0])],\n",
       "       [DenseVector([314.0, 107.0, 3.0, 3.0, 3.5, 8.17, 1.0])],\n",
       "       [DenseVector([327.0, 113.0, 4.0, 4.5, 5.0, 9.14, 0.0])],\n",
       "       [DenseVector([308.0, 107.1878, 4.0, 4.5, 5.0, 8.34, 0.0])],\n",
       "       [DenseVector([306.0, 105.0, 2.0, 2.5, 3.0, 8.22, 1.0])],\n",
       "       [DenseVector([299.0, 96.0, 2.0, 1.5, 2.0, 7.86, 0.0])],\n",
       "       [DenseVector([294.0, 95.0, 1.0, 1.5, 1.5, 7.64, 0.0])],\n",
       "       [DenseVector([312.0, 99.0, 1.0, 1.0, 1.5, 8.01, 1.0])],\n",
       "       [DenseVector([315.0, 100.0, 1.0, 2.0, 2.5, 7.95, 0.0])],\n",
       "       [DenseVector([322.0, 110.0, 3.0, 3.5, 3.0, 8.96, 1.0])],\n",
       "       [DenseVector([329.0, 113.0, 5.0, 5.0, 4.5, 9.45, 1.0])],\n",
       "       [DenseVector([320.0, 101.0, 2.0, 2.5, 3.0, 8.62, 0.0])],\n",
       "       [DenseVector([308.0, 103.0, 2.0, 3.0, 3.5, 8.49, 0.0])],\n",
       "       [DenseVector([316.5588, 102.0, 2.0, 3.0, 4.0, 8.73, 0.0])],\n",
       "       [DenseVector([311.0, 102.0, 3.0, 4.5, 4.0, 8.64, 1.0])],\n",
       "       [DenseVector([317.0, 110.0, 3.0, 4.0, 4.5, 9.11, 1.0])],\n",
       "       [DenseVector([312.0, 106.0, 3.0, 4.0, 3.5, 8.79, 1.0])],\n",
       "       [DenseVector([321.0, 111.0, 3.1216, 2.5, 3.0, 8.9, 1.0])],\n",
       "       [DenseVector([340.0, 112.0, 4.0, 5.0, 4.5, 9.66, 1.0])],\n",
       "       [DenseVector([331.0, 116.0, 5.0, 4.0, 4.0, 9.26, 1.0])],\n",
       "       [DenseVector([336.0, 118.0, 5.0, 4.5, 4.0, 9.19, 1.0])],\n",
       "       [DenseVector([324.0, 114.0, 5.0, 5.0, 4.5, 9.08, 1.0])],\n",
       "       [DenseVector([314.0, 104.0, 4.0, 5.0, 5.0, 9.02, 0.0])],\n",
       "       [DenseVector([313.0, 109.0, 3.0, 4.0, 3.5, 9.0, 0.0])],\n",
       "       [DenseVector([307.0, 105.0, 2.0, 2.5, 3.0, 7.65, 0.0])],\n",
       "       [DenseVector([300.0, 102.0, 2.0, 1.5, 2.0, 7.87, 0.0])],\n",
       "       [DenseVector([302.0, 99.0, 2.0, 1.0, 2.0, 7.97, 0.0])],\n",
       "       [DenseVector([312.0, 98.0, 1.0, 3.5, 3.0, 8.18, 1.0])],\n",
       "       [DenseVector([316.0, 101.0, 2.0, 2.5, 2.0, 8.32, 1.0])],\n",
       "       [DenseVector([317.0, 100.0, 2.0, 3.0, 2.5, 8.57, 0.0])],\n",
       "       [DenseVector([310.0, 107.0, 3.0, 3.5, 3.5, 8.67, 0.0])],\n",
       "       [DenseVector([320.0, 120.0, 3.0, 4.0, 4.5, 9.11, 0.0])],\n",
       "       [DenseVector([330.0, 114.0, 3.0, 4.5, 4.5, 9.24, 1.0])],\n",
       "       [DenseVector([305.0, 112.0, 3.0, 3.0, 3.5, 8.65, 0.0])],\n",
       "       [DenseVector([309.0, 106.0, 2.0, 2.5, 2.5, 8.0, 0.0])],\n",
       "       [DenseVector([319.0, 108.0, 2.0, 2.5, 3.0, 8.76, 0.0])],\n",
       "       [DenseVector([322.0, 105.0, 2.0, 3.0, 3.0, 8.45, 1.0])],\n",
       "       [DenseVector([323.0, 107.0, 3.0, 3.5, 3.5, 8.55, 1.0])],\n",
       "       [DenseVector([313.0, 106.0, 2.0, 2.5, 2.0, 8.43, 0.0])],\n",
       "       [DenseVector([321.0, 109.0, 3.0, 3.5, 3.5, 8.8, 1.0])],\n",
       "       [DenseVector([323.0, 110.0, 3.0, 4.0, 3.5, 9.1, 1.0])],\n",
       "       [DenseVector([325.0, 112.0, 4.0, 4.0, 4.0, 9.0, 1.0])],\n",
       "       [DenseVector([312.0, 108.0, 3.0, 3.5, 3.0, 8.53, 0.0])],\n",
       "       [DenseVector([308.0, 107.1878, 4.0, 3.5, 3.0, 8.6, 0.0])],\n",
       "       [DenseVector([320.0, 104.0, 3.0, 3.0, 3.5, 8.74, 1.0])],\n",
       "       [DenseVector([328.0, 108.0, 4.0, 4.5, 4.0, 9.18, 1.0])],\n",
       "       [DenseVector([311.0, 107.0, 4.0, 4.5, 4.5, 9.0, 1.0])],\n",
       "       [DenseVector([301.0, 100.0, 3.0, 3.5, 3.0, 8.04, 0.0])],\n",
       "       [DenseVector([305.0, 105.0, 2.0, 3.0, 4.0, 8.13, 0.0])],\n",
       "       [DenseVector([308.0, 104.0, 3.1216, 2.5, 3.0, 8.07, 0.0])],\n",
       "       [DenseVector([298.0, 101.0, 2.0, 1.5, 2.0, 7.86, 0.0])],\n",
       "       [DenseVector([300.0, 99.0, 1.0, 1.0, 2.5, 8.01, 0.0])],\n",
       "       [DenseVector([324.0, 111.0, 3.0, 2.5, 2.0, 8.8, 1.0])],\n",
       "       [DenseVector([327.0, 113.0, 4.0, 3.5, 3.0, 8.69, 1.0])],\n",
       "       [DenseVector([317.0, 106.0, 3.0, 4.0, 3.5, 8.5, 1.0])],\n",
       "       [DenseVector([323.0, 104.0, 3.0, 4.0, 4.0, 8.44, 1.0])],\n",
       "       [DenseVector([314.0, 107.0, 2.0, 2.5, 4.0, 8.27, 0.0])],\n",
       "       [DenseVector([305.0, 102.0, 2.0, 2.0, 2.5, 8.18, 0.0])],\n",
       "       [DenseVector([315.0, 104.0, 3.0, 3.0, 2.5, 8.33, 0.0])],\n",
       "       [DenseVector([326.0, 116.0, 3.0, 3.5, 4.0, 9.14, 1.0])],\n",
       "       [DenseVector([299.0, 100.0, 3.0, 2.0, 2.0, 8.02, 0.0])],\n",
       "       [DenseVector([295.0, 101.0, 2.0, 2.5, 2.0, 7.86, 0.0])],\n",
       "       [DenseVector([324.0, 112.0, 4.0, 4.0, 3.5, 8.77, 1.0])],\n",
       "       [DenseVector([297.0, 96.0, 2.0, 2.5, 1.5, 7.89, 0.0])],\n",
       "       [DenseVector([327.0, 113.0, 3.0, 3.5, 3.0, 8.66, 1.0])],\n",
       "       [DenseVector([311.0, 105.0, 2.0, 3.0, 2.0, 8.12, 1.0])],\n",
       "       [DenseVector([308.0, 106.0, 3.0, 3.5, 2.5, 8.21, 1.0])],\n",
       "       [DenseVector([319.0, 108.0, 3.0, 3.0, 3.5, 8.54, 1.0])],\n",
       "       [DenseVector([312.0, 107.0, 4.0, 4.5, 4.0, 8.65, 1.0])],\n",
       "       [DenseVector([325.0, 111.0, 4.0, 4.0, 4.5, 9.11, 1.0])],\n",
       "       [DenseVector([319.0, 110.0, 3.0, 3.0, 2.5, 8.79, 0.0])],\n",
       "       [DenseVector([332.0, 118.0, 5.0, 5.0, 5.0, 9.47, 1.0])],\n",
       "       [DenseVector([316.5588, 108.0, 5.0, 4.0, 4.0, 8.74, 1.0])],\n",
       "       [DenseVector([324.0, 107.0, 5.0, 3.5, 4.0, 8.66, 1.0])],\n",
       "       [DenseVector([312.0, 107.0, 3.0, 3.0, 3.0, 8.46, 1.0])],\n",
       "       [DenseVector([326.0, 110.0, 3.0, 3.5, 3.5, 8.76, 1.0])],\n",
       "       [DenseVector([308.0, 106.0, 3.0, 3.0, 3.0, 8.24, 0.0])],\n",
       "       [DenseVector([305.0, 103.0, 2.0, 2.5, 3.5, 8.13, 0.0])],\n",
       "       [DenseVector([295.0, 96.0, 2.0, 1.5, 2.0, 7.34, 0.0])],\n",
       "       [DenseVector([316.0, 98.0, 3.1216, 1.5, 2.0, 7.43, 0.0])],\n",
       "       [DenseVector([304.0, 97.0, 2.0, 1.5, 2.0, 7.64, 0.0])],\n",
       "       [DenseVector([299.0, 94.0, 1.0, 1.0, 1.0, 7.34, 0.0])],\n",
       "       [DenseVector([302.0, 99.0, 1.0, 2.0, 2.0, 7.25, 0.0])],\n",
       "       [DenseVector([313.0, 101.0, 3.0, 2.5, 3.0, 8.04, 0.0])],\n",
       "       [DenseVector([318.0, 107.0, 3.0, 3.0, 3.5, 8.27, 1.0])],\n",
       "       [DenseVector([325.0, 110.0, 4.0, 3.5, 4.0, 8.67, 1.0])],\n",
       "       [DenseVector([303.0, 100.0, 2.0, 3.0, 3.5, 8.06, 1.0])],\n",
       "       [DenseVector([300.0, 102.0, 3.0, 3.5, 2.5, 8.17, 0.0])],\n",
       "       [DenseVector([297.0, 98.0, 2.0, 2.5, 3.0, 7.67, 0.0])],\n",
       "       [DenseVector([317.0, 107.1878, 2.0, 2.0, 3.5, 8.12, 0.0])],\n",
       "       [DenseVector([327.0, 109.0, 3.0, 3.5, 4.0, 8.77, 1.0])],\n",
       "       [DenseVector([301.0, 104.0, 2.0, 3.5, 3.5, 7.89, 1.0])],\n",
       "       [DenseVector([314.0, 105.0, 2.0, 2.5, 2.0, 7.64, 0.0])],\n",
       "       [DenseVector([321.0, 107.0, 2.0, 2.0, 1.5, 8.44, 0.0])],\n",
       "       [DenseVector([322.0, 110.0, 3.0, 4.0, 5.0, 8.64, 1.0])],\n",
       "       [DenseVector([334.0, 116.0, 4.0, 4.0, 3.5, 9.54, 1.0])],\n",
       "       [DenseVector([338.0, 115.0, 5.0, 4.5, 5.0, 9.23, 1.0])],\n",
       "       [DenseVector([306.0, 103.0, 2.0, 2.5, 3.0, 8.36, 0.0])],\n",
       "       [DenseVector([313.0, 102.0, 3.0, 3.5, 4.0, 8.9, 1.0])],\n",
       "       [DenseVector([330.0, 114.0, 4.0, 4.5, 3.0, 9.17, 1.0])],\n",
       "       [DenseVector([320.0, 104.0, 3.0, 3.5, 4.5, 8.34, 1.0])],\n",
       "       [DenseVector([311.0, 98.0, 1.0, 1.0, 2.5, 7.46, 0.0])],\n",
       "       [DenseVector([298.0, 92.0, 1.0, 2.0, 2.0, 7.88, 0.0])],\n",
       "       [DenseVector([301.0, 98.0, 1.0, 2.0, 3.0, 8.03, 1.0])],\n",
       "       [DenseVector([310.0, 103.0, 2.0, 2.5, 2.5, 8.24, 0.0])],\n",
       "       [DenseVector([324.0, 110.0, 3.0, 3.5, 3.0, 9.22, 1.0])],\n",
       "       [DenseVector([336.0, 119.0, 4.0, 4.5, 4.0, 9.62, 1.0])],\n",
       "       [DenseVector([321.0, 109.0, 3.0, 3.0, 3.0, 8.54, 1.0])],\n",
       "       [DenseVector([315.0, 105.0, 2.0, 2.0, 2.5, 7.65, 0.0])],\n",
       "       [DenseVector([304.0, 101.0, 2.0, 2.0, 2.5, 7.66, 0.0])],\n",
       "       [DenseVector([297.0, 96.0, 2.0, 2.5, 2.0, 7.43, 0.0])],\n",
       "       [DenseVector([290.0, 100.0, 1.0, 1.5, 2.0, 7.56, 0.0])],\n",
       "       [DenseVector([303.0, 98.0, 1.0, 2.0, 2.5, 7.65, 0.0])],\n",
       "       [DenseVector([311.0, 99.0, 1.0, 2.5, 3.0, 8.43, 1.0])],\n",
       "       [DenseVector([322.0, 104.0, 3.0, 3.5, 4.0, 8.84, 1.0])],\n",
       "       [DenseVector([319.0, 105.0, 3.0, 3.0, 3.5, 8.67, 1.0])],\n",
       "       [DenseVector([324.0, 110.0, 4.0, 4.5, 4.0, 9.15, 1.0])],\n",
       "       [DenseVector([300.0, 100.0, 3.1216, 3.0, 3.5, 8.26, 0.0])],\n",
       "       [DenseVector([340.0, 113.0, 4.0, 5.0, 5.0, 9.74, 1.0])],\n",
       "       [DenseVector([335.0, 117.0, 5.0, 5.0, 5.0, 9.82, 1.0])],\n",
       "       [DenseVector([302.0, 101.0, 2.0, 2.5, 3.5, 7.96, 0.0])],\n",
       "       [DenseVector([307.0, 105.0, 2.0, 2.0, 3.5, 8.1, 0.0])],\n",
       "       [DenseVector([296.0, 97.0, 2.0, 1.5, 2.0, 7.8, 0.0])],\n",
       "       [DenseVector([320.0, 108.0, 3.0, 3.5, 4.0, 8.44, 1.0])],\n",
       "       [DenseVector([314.0, 102.0, 2.0, 2.0, 2.5, 8.24, 0.0])],\n",
       "       [DenseVector([318.0, 106.0, 3.0, 2.0, 3.0, 8.65, 0.0])],\n",
       "       [DenseVector([326.0, 112.0, 4.0, 4.0, 3.5, 9.12, 1.0])],\n",
       "       [DenseVector([317.0, 104.0, 2.0, 3.0, 3.0, 8.76, 0.0])],\n",
       "       [DenseVector([329.0, 111.0, 4.0, 4.5, 4.0, 9.23, 1.0])],\n",
       "       [DenseVector([324.0, 110.0, 3.0, 3.5, 3.5, 9.04, 1.0])],\n",
       "       [DenseVector([325.0, 107.0, 3.0, 3.0, 3.5, 9.11, 1.0])],\n",
       "       [DenseVector([330.0, 116.0, 4.0, 5.0, 4.5, 9.45, 1.0])],\n",
       "       [DenseVector([312.0, 103.0, 3.0, 3.5, 4.0, 8.78, 0.0])],\n",
       "       [DenseVector([333.0, 117.0, 4.0, 5.0, 4.0, 9.66, 1.0])],\n",
       "       [DenseVector([304.0, 100.0, 2.0, 3.5, 3.0, 8.22, 0.0])],\n",
       "       [DenseVector([315.0, 105.0, 2.0, 3.0, 3.0, 8.34, 0.0])],\n",
       "       [DenseVector([324.0, 109.0, 3.0, 3.5, 3.0, 8.94, 1.0])],\n",
       "       [DenseVector([330.0, 116.0, 4.0, 4.0, 3.5, 9.23, 1.0])],\n",
       "       [DenseVector([311.0, 101.0, 3.0, 2.0, 2.5, 7.64, 1.0])],\n",
       "       [DenseVector([302.0, 99.0, 3.0, 2.5, 3.0, 7.45, 0.0])],\n",
       "       [DenseVector([322.0, 103.0, 4.0, 3.0, 2.5, 8.02, 1.0])],\n",
       "       [DenseVector([298.0, 100.0, 3.0, 2.5, 4.0, 7.95, 1.0])],\n",
       "       [DenseVector([297.0, 101.0, 3.0, 2.0, 4.0, 7.67, 1.0])],\n",
       "       [DenseVector([300.0, 98.0, 1.0, 2.0, 2.5, 8.02, 0.0])],\n",
       "       [DenseVector([301.0, 96.0, 1.0, 3.0, 4.0, 7.56, 0.0])],\n",
       "       [DenseVector([313.0, 94.0, 2.0, 2.5, 1.5, 8.13, 0.0])],\n",
       "       [DenseVector([314.0, 102.0, 4.0, 2.5, 2.0, 7.88, 1.0])],\n",
       "       [DenseVector([317.0, 101.0, 3.1216, 3.0, 2.0, 7.94, 1.0])],\n",
       "       [DenseVector([321.0, 110.0, 4.0, 3.5, 4.0, 8.35, 1.0])],\n",
       "       [DenseVector([327.0, 107.1878, 4.0, 4.0, 4.5, 8.75, 1.0])],\n",
       "       [DenseVector([315.0, 104.0, 3.0, 4.0, 2.5, 8.1, 0.0])],\n",
       "       [DenseVector([316.0, 103.0, 3.0, 3.5, 2.0, 7.68, 0.0])],\n",
       "       [DenseVector([316.5588, 111.0, 2.0, 2.5, 4.0, 8.03, 0.0])],\n",
       "       [DenseVector([308.0, 102.0, 2.0, 2.0, 3.5, 7.98, 1.0])],\n",
       "       [DenseVector([299.0, 100.0, 3.0, 2.0, 3.0, 7.42, 0.0])],\n",
       "       [DenseVector([321.0, 112.0, 3.0, 3.0, 4.5, 8.95, 1.0])],\n",
       "       [DenseVector([322.0, 112.0, 4.0, 3.5, 2.5, 9.02, 1.0])],\n",
       "       [DenseVector([334.0, 119.0, 5.0, 4.5, 5.0, 9.54, 1.0])],\n",
       "       [DenseVector([325.0, 114.0, 5.0, 4.0, 5.0, 9.46, 1.0])],\n",
       "       [DenseVector([323.0, 111.0, 5.0, 4.0, 5.0, 9.86, 1.0])],\n",
       "       [DenseVector([312.0, 106.0, 3.0, 3.0, 5.0, 8.57, 0.0])],\n",
       "       [DenseVector([310.0, 101.0, 3.0, 3.5, 5.0, 8.65, 1.0])],\n",
       "       [DenseVector([316.0, 103.0, 2.0, 2.0, 4.5, 8.74, 0.0])],\n",
       "       [DenseVector([340.0, 115.0, 5.0, 5.0, 4.5, 9.06, 1.0])],\n",
       "       [DenseVector([311.0, 104.0, 3.0, 4.0, 3.5, 8.13, 1.0])],\n",
       "       [DenseVector([320.0, 112.0, 2.0, 3.5, 3.5, 8.78, 1.0])],\n",
       "       [DenseVector([324.0, 112.0, 4.0, 4.5, 4.0, 9.22, 1.0])],\n",
       "       [DenseVector([316.0, 111.0, 4.0, 4.0, 5.0, 8.54, 0.0])],\n",
       "       [DenseVector([306.0, 103.0, 3.0, 3.5, 3.0, 8.21, 0.0])],\n",
       "       [DenseVector([309.0, 105.0, 2.0, 2.5, 4.0, 7.68, 0.0])],\n",
       "       [DenseVector([310.0, 110.0, 1.0, 1.5, 4.0, 7.23, 1.0])],\n",
       "       [DenseVector([317.0, 106.0, 1.0, 1.5, 3.5, 7.65, 1.0])],\n",
       "       [DenseVector([318.0, 110.0, 3.1216, 2.5, 3.5, 8.54, 1.0])],\n",
       "       [DenseVector([312.0, 105.0, 2.0, 1.5, 3.0, 8.46, 0.0])],\n",
       "       [DenseVector([305.0, 104.0, 2.0, 2.5, 1.5, 7.79, 0.0])],\n",
       "       [DenseVector([332.0, 112.0, 1.0, 1.5, 3.0, 8.66, 1.0])],\n",
       "       [DenseVector([331.0, 116.0, 4.0, 4.5, 4.5, 9.44, 1.0])],\n",
       "       [DenseVector([321.0, 114.0, 5.0, 4.5, 4.5, 9.16, 1.0])],\n",
       "       [DenseVector([324.0, 113.0, 5.0, 4.0, 5.0, 9.25, 1.0])],\n",
       "       [DenseVector([328.0, 116.0, 5.0, 4.5, 5.0, 9.08, 1.0])],\n",
       "       [DenseVector([327.0, 118.0, 4.0, 5.0, 5.0, 9.67, 1.0])],\n",
       "       [DenseVector([320.0, 108.0, 3.0, 3.5, 5.0, 8.97, 1.0])],\n",
       "       [DenseVector([312.0, 109.0, 2.0, 2.5, 4.0, 9.02, 0.0])],\n",
       "       [DenseVector([315.0, 101.0, 3.0, 3.5, 4.5, 9.13, 0.0])],\n",
       "       [DenseVector([320.0, 112.0, 4.0, 3.0, 4.5, 8.86, 1.0])],\n",
       "       [DenseVector([324.0, 113.0, 4.0, 4.5, 4.5, 9.25, 1.0])],\n",
       "       [DenseVector([328.0, 116.0, 4.0, 5.0, 3.5, 9.6, 1.0])],\n",
       "       [DenseVector([319.0, 103.0, 3.0, 2.5, 4.0, 8.76, 1.0])],\n",
       "       [DenseVector([316.5588, 105.0, 2.0, 3.0, 3.5, 8.01, 0.0])],\n",
       "       [DenseVector([305.0, 102.0, 2.0, 1.5, 2.5, 7.64, 0.0])],\n",
       "       [DenseVector([299.0, 100.0, 2.0, 2.0, 2.0, 7.88, 0.0])],\n",
       "       [DenseVector([295.0, 99.0, 1.0, 2.0, 1.5, 7.57, 0.0])],\n",
       "       [DenseVector([312.0, 100.0, 1.0, 3.0, 3.0, 8.53, 1.0])],\n",
       "       [DenseVector([329.0, 113.0, 4.0, 4.0, 3.5, 9.36, 1.0])],\n",
       "       [DenseVector([319.0, 105.0, 4.0, 4.0, 4.5, 8.66, 1.0])],\n",
       "       [DenseVector([301.0, 102.0, 3.0, 2.5, 2.0, 8.13, 1.0])],\n",
       "       [DenseVector([307.0, 105.0, 4.0, 3.0, 3.0, 7.94, 0.0])],\n",
       "       [DenseVector([304.0, 107.0, 3.0, 3.5, 3.0, 7.86, 0.0])],\n",
       "       [DenseVector([298.0, 97.0, 3.1216, 2.0, 3.0, 7.21, 0.0])],\n",
       "       [DenseVector([305.0, 96.0, 4.0, 3.0, 4.5, 8.26, 0.0])],\n",
       "       [DenseVector([314.0, 99.0, 4.0, 3.5, 4.5, 8.73, 1.0])],\n",
       "       [DenseVector([318.0, 101.0, 5.0, 3.5, 5.0, 8.78, 1.0])],\n",
       "       [DenseVector([323.0, 110.0, 4.0, 4.0, 5.0, 8.88, 1.0])],\n",
       "       [DenseVector([326.0, 114.0, 4.0, 4.0, 3.5, 9.16, 1.0])],\n",
       "       [DenseVector([320.0, 110.0, 5.0, 4.0, 4.0, 9.27, 1.0])],\n",
       "       [DenseVector([311.0, 103.0, 3.0, 2.0, 4.0, 8.09, 0.0])],\n",
       "       [DenseVector([327.0, 116.0, 4.0, 4.0, 4.5, 9.48, 1.0])],\n",
       "       [DenseVector([316.0, 102.0, 2.0, 4.0, 3.5, 8.15, 0.0])],\n",
       "       [DenseVector([308.0, 105.0, 4.0, 3.0, 2.5, 7.95, 1.0])],\n",
       "       [DenseVector([300.0, 101.0, 3.0, 3.5, 2.5, 7.88, 0.0])],\n",
       "       [DenseVector([304.0, 104.0, 3.0, 2.5, 2.0, 8.12, 0.0])],\n",
       "       [DenseVector([309.0, 105.0, 4.0, 3.5, 2.0, 8.18, 0.0])],\n",
       "       [DenseVector([318.0, 103.0, 3.0, 4.0, 4.5, 8.49, 1.0])],\n",
       "       [DenseVector([325.0, 110.0, 4.0, 4.5, 4.0, 8.96, 1.0])],\n",
       "       [DenseVector([321.0, 102.0, 3.0, 3.5, 4.0, 9.01, 1.0])],\n",
       "       [DenseVector([323.0, 107.0, 4.0, 3.0, 2.5, 8.48, 1.0])],\n",
       "       [DenseVector([328.0, 113.0, 4.0, 4.0, 2.5, 8.77, 1.0])],\n",
       "       [DenseVector([304.0, 103.0, 5.0, 5.0, 3.0, 7.92, 0.0])],\n",
       "       [DenseVector([317.0, 106.0, 3.0, 3.5, 3.0, 7.89, 1.0])],\n",
       "       [DenseVector([311.0, 107.1878, 2.0, 2.5, 3.5, 8.34, 1.0])],\n",
       "       [DenseVector([319.0, 102.0, 3.1216, 2.5, 2.5, 8.37, 0.0])],\n",
       "       [DenseVector([327.0, 115.0, 4.0, 3.5, 4.0, 9.14, 0.0])],\n",
       "       [DenseVector([322.0, 112.0, 3.0, 3.0, 4.0, 8.62, 1.0])],\n",
       "       [DenseVector([316.5588, 110.0, 3.0, 4.0, 4.5, 8.5, 0.0])],\n",
       "       [DenseVector([307.0, 105.0, 2.0, 2.5, 4.5, 8.12, 1.0])],\n",
       "       [DenseVector([297.0, 99.0, 4.0, 3.0, 3.5, 7.81, 0.0])],\n",
       "       [DenseVector([298.0, 101.0, 4.0, 2.5, 4.5, 7.69, 1.0])],\n",
       "       [DenseVector([300.0, 95.0, 2.0, 3.0, 1.5, 8.22, 1.0])],\n",
       "       [DenseVector([301.0, 99.0, 3.0, 2.5, 2.0, 8.45, 1.0])],\n",
       "       [DenseVector([332.0, 108.0, 5.0, 4.5, 4.0, 9.02, 1.0])],\n",
       "       [DenseVector([337.0, 117.0, 5.0, 5.0, 5.0, 9.87, 1.0])],\n",
       "       [DenseVector([330.0, 120.0, 5.0, 4.5, 5.0, 9.56, 1.0])],\n",
       "       [DenseVector([312.0, 103.0, 4.0, 4.0, 5.0, 8.43, 0.0])],\n",
       "       [DenseVector([327.0, 113.0, 4.0, 4.5, 4.5, 9.04, 0.0])]],\n",
       "      dtype=object)"
      ]
     },
     "execution_count": 70,
     "metadata": {},
     "output_type": "execute_result"
    }
   ],
   "source": [
    "output.select('features').toPandas().values"
   ]
  },
  {
   "cell_type": "code",
   "execution_count": 71,
   "id": "28432a44-9ca0-41ab-acb1-024065cef1b3",
   "metadata": {},
   "outputs": [],
   "source": [
    "data = output.select(\"features\", \"Chance of Admit\")"
   ]
  },
  {
   "cell_type": "code",
   "execution_count": 72,
   "id": "c1ed429e-b5ab-43ad-b426-e0e006e014e7",
   "metadata": {},
   "outputs": [
    {
     "name": "stdout",
     "output_type": "stream",
     "text": [
      "+--------------------+---------------+\n",
      "|            features|Chance of Admit|\n",
      "+--------------------+---------------+\n",
      "|[337.0,118.0,4.0,...|           0.92|\n",
      "|[324.0,107.0,4.0,...|           0.76|\n",
      "|[316.558776855468...|           0.72|\n",
      "|[322.0,110.0,3.0,...|            0.8|\n",
      "|[314.0,103.0,2.0,...|           0.65|\n",
      "+--------------------+---------------+\n",
      "only showing top 5 rows\n",
      "\n"
     ]
    }
   ],
   "source": [
    "data.show(5)"
   ]
  },
  {
   "cell_type": "markdown",
   "id": "f9db5228-171d-4673-8006-2ca6dba7003d",
   "metadata": {},
   "source": [
    "# Train Test split"
   ]
  },
  {
   "cell_type": "code",
   "execution_count": 73,
   "id": "52f79250-82e7-41b7-8137-26c394ad0b32",
   "metadata": {},
   "outputs": [],
   "source": [
    "train_df, test_df = data.randomSplit([0.7, 0.3])"
   ]
  },
  {
   "cell_type": "code",
   "execution_count": 74,
   "id": "0c72c095-92d1-4450-b125-17cdb4e5de1e",
   "metadata": {},
   "outputs": [
    {
     "name": "stdout",
     "output_type": "stream",
     "text": [
      "+--------------------+---------------+\n",
      "|            features|Chance of Admit|\n",
      "+--------------------+---------------+\n",
      "|[290.0,100.0,1.0,...|           0.47|\n",
      "|[290.0,104.0,4.0,...|           0.45|\n",
      "|[293.0,97.0,2.0,2...|           0.64|\n",
      "|[294.0,93.0,1.0,1...|           0.46|\n",
      "|[294.0,95.0,1.0,1...|           0.49|\n",
      "|[295.0,93.0,1.0,2...|           0.46|\n",
      "|[295.0,96.0,2.0,1...|           0.47|\n",
      "|[295.0,99.0,1.0,2...|           0.37|\n",
      "|[295.0,99.0,2.0,2...|           0.57|\n",
      "|[296.0,97.0,2.0,1...|           0.49|\n",
      "|[296.0,99.0,2.0,3...|           0.47|\n",
      "|[297.0,96.0,2.0,2...|           0.43|\n",
      "|[297.0,96.0,2.0,2...|           0.34|\n",
      "|[297.0,98.0,2.0,2...|           0.59|\n",
      "|[297.0,101.0,3.0,...|           0.57|\n",
      "|[298.0,92.0,1.0,2...|           0.51|\n",
      "|[298.0,97.0,3.121...|           0.45|\n",
      "|[298.0,98.0,2.0,1...|           0.44|\n",
      "|[298.0,98.0,2.0,4...|           0.34|\n",
      "|[298.0,100.0,3.0,...|           0.58|\n",
      "+--------------------+---------------+\n",
      "only showing top 20 rows\n",
      "\n"
     ]
    }
   ],
   "source": [
    "train_df.show()"
   ]
  },
  {
   "cell_type": "code",
   "execution_count": 75,
   "id": "b9e2ea66-a0ed-457c-8dea-a21fd95b6ab5",
   "metadata": {},
   "outputs": [
    {
     "name": "stdout",
     "output_type": "stream",
     "text": [
      "+--------------------+---------------+\n",
      "|            features|Chance of Admit|\n",
      "+--------------------+---------------+\n",
      "|[295.0,101.0,2.0,...|           0.69|\n",
      "|[296.0,95.0,2.0,3...|           0.44|\n",
      "|[296.0,99.0,2.0,2...|           0.61|\n",
      "|[296.0,101.0,1.0,...|            0.6|\n",
      "|[297.0,99.0,4.0,3...|           0.54|\n",
      "|[297.0,100.0,1.0,...|           0.52|\n",
      "|[298.0,99.0,1.0,1...|           0.53|\n",
      "|[298.0,105.0,3.0,...|           0.69|\n",
      "|[299.0,96.0,2.0,1...|           0.54|\n",
      "|[299.0,97.0,3.0,5...|           0.38|\n",
      "|[299.0,100.0,1.0,...|           0.59|\n",
      "|[299.0,100.0,2.0,...|           0.51|\n",
      "|[300.0,99.0,1.0,1...|           0.58|\n",
      "|[300.0,100.0,3.0,...|           0.64|\n",
      "|[300.0,100.0,3.12...|           0.62|\n",
      "|[300.0,105.0,1.0,...|           0.58|\n",
      "|[301.0,100.0,3.0,...|           0.67|\n",
      "|[301.0,102.0,3.0,...|           0.68|\n",
      "|[302.0,99.0,1.0,2...|           0.57|\n",
      "|[304.0,97.0,2.0,1...|           0.47|\n",
      "+--------------------+---------------+\n",
      "only showing top 20 rows\n",
      "\n"
     ]
    }
   ],
   "source": [
    "test_df.show()"
   ]
  },
  {
   "cell_type": "markdown",
   "id": "37ecbd81-3726-4ab2-af45-e4a237406fc1",
   "metadata": {},
   "source": [
    "# Linear Regressor"
   ]
  },
  {
   "cell_type": "code",
   "execution_count": 77,
   "id": "ebcc42af-cd73-413f-ba56-4bf34c6ee2b6",
   "metadata": {},
   "outputs": [],
   "source": [
    "linear_reg = LinearRegression(featuresCol=\"features\", labelCol=\"Chance of Admit\")\n",
    "linear_model = linear_reg.fit(train_df)"
   ]
  },
  {
   "cell_type": "code",
   "execution_count": 79,
   "id": "c8ea9e15-95e0-4462-afbe-ad2049b81c7d",
   "metadata": {},
   "outputs": [
    {
     "name": "stdout",
     "output_type": "stream",
     "text": [
      "coefficient :  [0.0027044541071400766,0.002347259402374242,0.0028634849945772937,0.0034685505284830923,0.016291101677516847,0.11833324746460916,0.024150038964725402]\n",
      "Intercept:  -1.4932994837564946\n"
     ]
    }
   ],
   "source": [
    "print(\"coefficient : \", linear_model.coefficients)\n",
    "print(\"Intercept: \", linear_model.intercept)"
   ]
  },
  {
   "cell_type": "code",
   "execution_count": 81,
   "id": "11ded2f1-6a35-4258-b892-aec4aa688ed6",
   "metadata": {},
   "outputs": [
    {
     "name": "stdout",
     "output_type": "stream",
     "text": [
      "RMSE:  0.05732066225528161\n",
      "r2 score:  0.8398643510037533\n",
      "Adjusted r2 score:  0.8365479322375589\n"
     ]
    }
   ],
   "source": [
    "train_summary = linear_model.summary\n",
    "print(\"RMSE: \", train_summary.rootMeanSquaredError)\n",
    "print(\"r2 score: \", train_summary.r2)\n",
    "print(\"Adjusted r2 score: \", train_summary.r2adj)"
   ]
  },
  {
   "cell_type": "markdown",
   "id": "8e6d250f-7014-45f4-b79e-ed2a7feb082d",
   "metadata": {},
   "source": [
    "## Prediction"
   ]
  },
  {
   "cell_type": "code",
   "execution_count": 84,
   "id": "671cf6f8-684f-4e4c-84b5-e3215f90365b",
   "metadata": {},
   "outputs": [
    {
     "name": "stdout",
     "output_type": "stream",
     "text": [
      "+--------------------+---------------+-------------------+\n",
      "|            features|Chance of Admit|         prediction|\n",
      "+--------------------+---------------+-------------------+\n",
      "|[295.0,101.0,2.0,...|           0.69| 0.5186675680260435|\n",
      "|[296.0,95.0,2.0,3...|           0.44| 0.4953061204459819|\n",
      "|[296.0,99.0,2.0,2...|           0.61| 0.5449396588385975|\n",
      "|[296.0,101.0,1.0,...|            0.6| 0.5134996181600522|\n",
      "|[297.0,99.0,4.0,3...|           0.54| 0.5453631702617401|\n",
      "|[297.0,100.0,1.0,...|           0.52| 0.5201305066994182|\n",
      "|[298.0,99.0,1.0,1...|           0.53|0.48471216742619005|\n",
      "|[298.0,105.0,3.0,...|           0.69|  0.655550794797741|\n",
      "|[299.0,96.0,2.0,1...|           0.54| 0.5142805369142496|\n",
      "|[299.0,97.0,3.0,5...|           0.38| 0.5324011773288315|\n",
      "|[299.0,100.0,1.0,...|           0.59| 0.5243560553547211|\n",
      "|[299.0,100.0,2.0,...|           0.51| 0.5277705124802525|\n",
      "|[300.0,99.0,1.0,1...|           0.58| 0.5453245582132811|\n",
      "|[300.0,100.0,3.0,...|           0.64|  0.666079493648221|\n",
      "|[300.0,100.0,3.12...|           0.62| 0.6065586437339106|\n",
      "|[300.0,105.0,1.0,...|           0.58| 0.5264125773071451|\n",
      "|[301.0,100.0,3.0,...|           0.67| 0.5764701346974686|\n",
      "|[301.0,102.0,3.0,...|           0.68| 0.5962050505889775|\n",
      "|[302.0,99.0,1.0,2...|           0.57|0.45612317095985166|\n",
      "|[304.0,97.0,2.0,1...|           0.47| 0.5041167208117239|\n",
      "+--------------------+---------------+-------------------+\n",
      "only showing top 20 rows\n",
      "\n"
     ]
    },
    {
     "data": {
      "text/plain": [
       "DataFrame[features: vector, Chance of Admit: float, prediction: double]"
      ]
     },
     "execution_count": 84,
     "metadata": {},
     "output_type": "execute_result"
    }
   ],
   "source": [
    "prediction = linear_model.transform(test_df)\n",
    "prediction.select(\"features\", \"Chance of Admit\", \"prediction\").show()\n",
    "prediction"
   ]
  },
  {
   "cell_type": "markdown",
   "id": "73641dd6-222d-470c-a809-71bc11e341d9",
   "metadata": {},
   "source": [
    "## Prediction evaluation"
   ]
  },
  {
   "cell_type": "code",
   "execution_count": 85,
   "id": "c8cb8dd2-b485-4e3d-aa00-5a5dd22eae76",
   "metadata": {},
   "outputs": [
    {
     "name": "stdout",
     "output_type": "stream",
     "text": [
      "R2 score on test data =  0.7637091005124877\n"
     ]
    }
   ],
   "source": [
    "from pyspark.ml.evaluation import RegressionEvaluator\n",
    "pred_evaluator = RegressionEvaluator(predictionCol='prediction',labelCol='Chance of Admit', metricName='r2')\n",
    "print('R2 score on test data = ', pred_evaluator.evaluate(prediction))"
   ]
  },
  {
   "cell_type": "markdown",
   "id": "fca04190-7806-4444-9c04-4cc3023f489c",
   "metadata": {},
   "source": [
    "# Random Forest"
   ]
  },
  {
   "cell_type": "code",
   "execution_count": 86,
   "id": "4eb88305-fe96-4e6d-9d48-116748a25655",
   "metadata": {},
   "outputs": [],
   "source": [
    "random_forest_reg = RandomForestRegressor(featuresCol=\"features\", labelCol=\"Chance of Admit\")\n",
    "model = random_forest_reg.fit(train_df)"
   ]
  },
  {
   "cell_type": "code",
   "execution_count": 87,
   "id": "519fbb32-012c-4ef8-bdb4-53c4be04cfaf",
   "metadata": {},
   "outputs": [],
   "source": [
    "predictions = model.transform(test_df)"
   ]
  },
  {
   "cell_type": "code",
   "execution_count": 88,
   "id": "4c07b341-5590-4216-b8be-b507dd6688c9",
   "metadata": {},
   "outputs": [
    {
     "name": "stdout",
     "output_type": "stream",
     "text": [
      "+--------------------+---------------+-------------------+\n",
      "|            features|Chance of Admit|         prediction|\n",
      "+--------------------+---------------+-------------------+\n",
      "|[295.0,101.0,2.0,...|           0.69|0.48777921884619957|\n",
      "|[296.0,95.0,2.0,3...|           0.44| 0.4372186373436279|\n",
      "|[296.0,99.0,2.0,2...|           0.61| 0.5135236457242093|\n",
      "|[296.0,101.0,1.0,...|            0.6| 0.5063290284075517|\n",
      "|[297.0,99.0,4.0,3...|           0.54| 0.5446274179792636|\n",
      "|[297.0,100.0,1.0,...|           0.52| 0.5218365715579162|\n",
      "|[298.0,99.0,1.0,1...|           0.53| 0.4687097167552025|\n",
      "|[298.0,105.0,3.0,...|           0.69|  0.592479256146192|\n",
      "|[299.0,96.0,2.0,1...|           0.54|  0.500007005204133|\n",
      "|[299.0,97.0,3.0,5...|           0.38|  0.553782877903234|\n",
      "|[299.0,100.0,1.0,...|           0.59| 0.5580090378804548|\n",
      "|[299.0,100.0,2.0,...|           0.51| 0.5209516475422984|\n",
      "|[300.0,99.0,1.0,1...|           0.58| 0.5744862151526577|\n",
      "|[300.0,100.0,3.0,...|           0.64| 0.6768646238484912|\n",
      "|[300.0,100.0,3.12...|           0.62| 0.6258673050297857|\n",
      "|[300.0,105.0,1.0,...|           0.58| 0.5549147789498814|\n",
      "|[301.0,100.0,3.0,...|           0.67| 0.6032490962293793|\n",
      "|[301.0,102.0,3.0,...|           0.68|  0.617173377522262|\n",
      "|[302.0,99.0,1.0,2...|           0.57|0.47332078626478946|\n",
      "|[304.0,97.0,2.0,1...|           0.47| 0.4942489716420594|\n",
      "+--------------------+---------------+-------------------+\n",
      "only showing top 20 rows\n",
      "\n"
     ]
    }
   ],
   "source": [
    "predictions.show()"
   ]
  },
  {
   "cell_type": "code",
   "execution_count": 89,
   "id": "83e2eccb-691f-46eb-a301-bc32a45c5780",
   "metadata": {},
   "outputs": [
    {
     "name": "stdout",
     "output_type": "stream",
     "text": [
      "R2 score on test data =  0.7503766064229214\n"
     ]
    }
   ],
   "source": [
    "from pyspark.ml.evaluation import RegressionEvaluator\n",
    "pred_evaluator = RegressionEvaluator(predictionCol='prediction',labelCol='Chance of Admit', metricName='r2')\n",
    "print('R2 score on test data = ', pred_evaluator.evaluate(predictions))"
   ]
  },
  {
   "cell_type": "code",
   "execution_count": null,
   "id": "346d5cb9-6b76-4d6e-bd7b-2e1be7117907",
   "metadata": {},
   "outputs": [],
   "source": []
  }
 ],
 "metadata": {
  "kernelspec": {
   "display_name": "Python 3 (ipykernel)",
   "language": "python",
   "name": "python3"
  },
  "language_info": {
   "codemirror_mode": {
    "name": "ipython",
    "version": 3
   },
   "file_extension": ".py",
   "mimetype": "text/x-python",
   "name": "python",
   "nbconvert_exporter": "python",
   "pygments_lexer": "ipython3",
   "version": "3.9.13"
  }
 },
 "nbformat": 4,
 "nbformat_minor": 5
}
